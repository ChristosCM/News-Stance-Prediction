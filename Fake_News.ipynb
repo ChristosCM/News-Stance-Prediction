{
  "nbformat": 4,
  "nbformat_minor": 0,
  "metadata": {
    "accelerator": "GPU",
    "colab": {
      "name": "Fake_News.ipynb",
      "provenance": [],
      "collapsed_sections": [
        "2I2XsbYEAK_I",
        "2YilwxYXEQgy",
        "D-VwJNEIGlFc",
        "sIstGynSANlU",
        "IMKvTcjlYYFv"
      ]
    },
    "kernelspec": {
      "display_name": "Python 3",
      "name": "python3"
    },
    "language_info": {
      "name": "python"
    },
    "widgets": {
      "application/vnd.jupyter.widget-state+json": {
        "057289a759334f46ace3708f3e41c230": {
          "model_module": "@jupyter-widgets/controls",
          "model_name": "HBoxModel",
          "state": {
            "_view_name": "HBoxView",
            "_dom_classes": [],
            "_model_name": "HBoxModel",
            "_view_module": "@jupyter-widgets/controls",
            "_model_module_version": "1.5.0",
            "_view_count": null,
            "_view_module_version": "1.5.0",
            "box_style": "",
            "layout": "IPY_MODEL_f643192688fb4e9891940d699630c502",
            "_model_module": "@jupyter-widgets/controls",
            "children": [
              "IPY_MODEL_8501da0a50f34f4cbb94fe35439ff4f8",
              "IPY_MODEL_4a561364412f4310b16b7f7a65011c51"
            ]
          }
        },
        "f643192688fb4e9891940d699630c502": {
          "model_module": "@jupyter-widgets/base",
          "model_name": "LayoutModel",
          "state": {
            "_view_name": "LayoutView",
            "grid_template_rows": null,
            "right": null,
            "justify_content": null,
            "_view_module": "@jupyter-widgets/base",
            "overflow": null,
            "_model_module_version": "1.2.0",
            "_view_count": null,
            "flex_flow": null,
            "width": null,
            "min_width": null,
            "border": null,
            "align_items": null,
            "bottom": null,
            "_model_module": "@jupyter-widgets/base",
            "top": null,
            "grid_column": null,
            "overflow_y": null,
            "overflow_x": null,
            "grid_auto_flow": null,
            "grid_area": null,
            "grid_template_columns": null,
            "flex": null,
            "_model_name": "LayoutModel",
            "justify_items": null,
            "grid_row": null,
            "max_height": null,
            "align_content": null,
            "visibility": null,
            "align_self": null,
            "height": null,
            "min_height": null,
            "padding": null,
            "grid_auto_rows": null,
            "grid_gap": null,
            "max_width": null,
            "order": null,
            "_view_module_version": "1.2.0",
            "grid_template_areas": null,
            "object_position": null,
            "object_fit": null,
            "grid_auto_columns": null,
            "margin": null,
            "display": null,
            "left": null
          }
        },
        "8501da0a50f34f4cbb94fe35439ff4f8": {
          "model_module": "@jupyter-widgets/controls",
          "model_name": "FloatProgressModel",
          "state": {
            "_view_name": "ProgressView",
            "style": "IPY_MODEL_6ccdf1d20bbe4efbbbc2404abe10df4a",
            "_dom_classes": [],
            "description": "Downloading: 100%",
            "_model_name": "FloatProgressModel",
            "bar_style": "success",
            "max": 231508,
            "_view_module": "@jupyter-widgets/controls",
            "_model_module_version": "1.5.0",
            "value": 231508,
            "_view_count": null,
            "_view_module_version": "1.5.0",
            "orientation": "horizontal",
            "min": 0,
            "description_tooltip": null,
            "_model_module": "@jupyter-widgets/controls",
            "layout": "IPY_MODEL_4b719ac2968d4a55acbf856caf10d775"
          }
        },
        "4a561364412f4310b16b7f7a65011c51": {
          "model_module": "@jupyter-widgets/controls",
          "model_name": "HTMLModel",
          "state": {
            "_view_name": "HTMLView",
            "style": "IPY_MODEL_a20c56c8a3d44ef1a1a1b00d4ebc8bfd",
            "_dom_classes": [],
            "description": "",
            "_model_name": "HTMLModel",
            "placeholder": "​",
            "_view_module": "@jupyter-widgets/controls",
            "_model_module_version": "1.5.0",
            "value": " 232k/232k [00:02&lt;00:00, 94.5kB/s]",
            "_view_count": null,
            "_view_module_version": "1.5.0",
            "description_tooltip": null,
            "_model_module": "@jupyter-widgets/controls",
            "layout": "IPY_MODEL_493a17d064d448b0bec55576efcaa880"
          }
        },
        "6ccdf1d20bbe4efbbbc2404abe10df4a": {
          "model_module": "@jupyter-widgets/controls",
          "model_name": "ProgressStyleModel",
          "state": {
            "_view_name": "StyleView",
            "_model_name": "ProgressStyleModel",
            "description_width": "initial",
            "_view_module": "@jupyter-widgets/base",
            "_model_module_version": "1.5.0",
            "_view_count": null,
            "_view_module_version": "1.2.0",
            "bar_color": null,
            "_model_module": "@jupyter-widgets/controls"
          }
        },
        "4b719ac2968d4a55acbf856caf10d775": {
          "model_module": "@jupyter-widgets/base",
          "model_name": "LayoutModel",
          "state": {
            "_view_name": "LayoutView",
            "grid_template_rows": null,
            "right": null,
            "justify_content": null,
            "_view_module": "@jupyter-widgets/base",
            "overflow": null,
            "_model_module_version": "1.2.0",
            "_view_count": null,
            "flex_flow": null,
            "width": null,
            "min_width": null,
            "border": null,
            "align_items": null,
            "bottom": null,
            "_model_module": "@jupyter-widgets/base",
            "top": null,
            "grid_column": null,
            "overflow_y": null,
            "overflow_x": null,
            "grid_auto_flow": null,
            "grid_area": null,
            "grid_template_columns": null,
            "flex": null,
            "_model_name": "LayoutModel",
            "justify_items": null,
            "grid_row": null,
            "max_height": null,
            "align_content": null,
            "visibility": null,
            "align_self": null,
            "height": null,
            "min_height": null,
            "padding": null,
            "grid_auto_rows": null,
            "grid_gap": null,
            "max_width": null,
            "order": null,
            "_view_module_version": "1.2.0",
            "grid_template_areas": null,
            "object_position": null,
            "object_fit": null,
            "grid_auto_columns": null,
            "margin": null,
            "display": null,
            "left": null
          }
        },
        "a20c56c8a3d44ef1a1a1b00d4ebc8bfd": {
          "model_module": "@jupyter-widgets/controls",
          "model_name": "DescriptionStyleModel",
          "state": {
            "_view_name": "StyleView",
            "_model_name": "DescriptionStyleModel",
            "description_width": "",
            "_view_module": "@jupyter-widgets/base",
            "_model_module_version": "1.5.0",
            "_view_count": null,
            "_view_module_version": "1.2.0",
            "_model_module": "@jupyter-widgets/controls"
          }
        },
        "493a17d064d448b0bec55576efcaa880": {
          "model_module": "@jupyter-widgets/base",
          "model_name": "LayoutModel",
          "state": {
            "_view_name": "LayoutView",
            "grid_template_rows": null,
            "right": null,
            "justify_content": null,
            "_view_module": "@jupyter-widgets/base",
            "overflow": null,
            "_model_module_version": "1.2.0",
            "_view_count": null,
            "flex_flow": null,
            "width": null,
            "min_width": null,
            "border": null,
            "align_items": null,
            "bottom": null,
            "_model_module": "@jupyter-widgets/base",
            "top": null,
            "grid_column": null,
            "overflow_y": null,
            "overflow_x": null,
            "grid_auto_flow": null,
            "grid_area": null,
            "grid_template_columns": null,
            "flex": null,
            "_model_name": "LayoutModel",
            "justify_items": null,
            "grid_row": null,
            "max_height": null,
            "align_content": null,
            "visibility": null,
            "align_self": null,
            "height": null,
            "min_height": null,
            "padding": null,
            "grid_auto_rows": null,
            "grid_gap": null,
            "max_width": null,
            "order": null,
            "_view_module_version": "1.2.0",
            "grid_template_areas": null,
            "object_position": null,
            "object_fit": null,
            "grid_auto_columns": null,
            "margin": null,
            "display": null,
            "left": null
          }
        },
        "dc0b0b857e3841278e4e872557062ce6": {
          "model_module": "@jupyter-widgets/controls",
          "model_name": "HBoxModel",
          "state": {
            "_view_name": "HBoxView",
            "_dom_classes": [],
            "_model_name": "HBoxModel",
            "_view_module": "@jupyter-widgets/controls",
            "_model_module_version": "1.5.0",
            "_view_count": null,
            "_view_module_version": "1.5.0",
            "box_style": "",
            "layout": "IPY_MODEL_b3723ddcedf9449ba4409385d0f1b030",
            "_model_module": "@jupyter-widgets/controls",
            "children": [
              "IPY_MODEL_f4d78ea88a6346c79e22398d2b9fa57d",
              "IPY_MODEL_6c74a9fca55b40e9a7458b5128455c47"
            ]
          }
        },
        "b3723ddcedf9449ba4409385d0f1b030": {
          "model_module": "@jupyter-widgets/base",
          "model_name": "LayoutModel",
          "state": {
            "_view_name": "LayoutView",
            "grid_template_rows": null,
            "right": null,
            "justify_content": null,
            "_view_module": "@jupyter-widgets/base",
            "overflow": null,
            "_model_module_version": "1.2.0",
            "_view_count": null,
            "flex_flow": null,
            "width": null,
            "min_width": null,
            "border": null,
            "align_items": null,
            "bottom": null,
            "_model_module": "@jupyter-widgets/base",
            "top": null,
            "grid_column": null,
            "overflow_y": null,
            "overflow_x": null,
            "grid_auto_flow": null,
            "grid_area": null,
            "grid_template_columns": null,
            "flex": null,
            "_model_name": "LayoutModel",
            "justify_items": null,
            "grid_row": null,
            "max_height": null,
            "align_content": null,
            "visibility": null,
            "align_self": null,
            "height": null,
            "min_height": null,
            "padding": null,
            "grid_auto_rows": null,
            "grid_gap": null,
            "max_width": null,
            "order": null,
            "_view_module_version": "1.2.0",
            "grid_template_areas": null,
            "object_position": null,
            "object_fit": null,
            "grid_auto_columns": null,
            "margin": null,
            "display": null,
            "left": null
          }
        },
        "f4d78ea88a6346c79e22398d2b9fa57d": {
          "model_module": "@jupyter-widgets/controls",
          "model_name": "FloatProgressModel",
          "state": {
            "_view_name": "ProgressView",
            "style": "IPY_MODEL_f567066466484d738419dcafb348a9d2",
            "_dom_classes": [],
            "description": "Downloading: 100%",
            "_model_name": "FloatProgressModel",
            "bar_style": "success",
            "max": 28,
            "_view_module": "@jupyter-widgets/controls",
            "_model_module_version": "1.5.0",
            "value": 28,
            "_view_count": null,
            "_view_module_version": "1.5.0",
            "orientation": "horizontal",
            "min": 0,
            "description_tooltip": null,
            "_model_module": "@jupyter-widgets/controls",
            "layout": "IPY_MODEL_5b26975195de42fd978749470a1ffe33"
          }
        },
        "6c74a9fca55b40e9a7458b5128455c47": {
          "model_module": "@jupyter-widgets/controls",
          "model_name": "HTMLModel",
          "state": {
            "_view_name": "HTMLView",
            "style": "IPY_MODEL_90155357c4d049b38629d99460f7950a",
            "_dom_classes": [],
            "description": "",
            "_model_name": "HTMLModel",
            "placeholder": "​",
            "_view_module": "@jupyter-widgets/controls",
            "_model_module_version": "1.5.0",
            "value": " 28.0/28.0 [00:00&lt;00:00, 47.5B/s]",
            "_view_count": null,
            "_view_module_version": "1.5.0",
            "description_tooltip": null,
            "_model_module": "@jupyter-widgets/controls",
            "layout": "IPY_MODEL_e81e37b33ee74972919e4aa30cdb771f"
          }
        },
        "f567066466484d738419dcafb348a9d2": {
          "model_module": "@jupyter-widgets/controls",
          "model_name": "ProgressStyleModel",
          "state": {
            "_view_name": "StyleView",
            "_model_name": "ProgressStyleModel",
            "description_width": "initial",
            "_view_module": "@jupyter-widgets/base",
            "_model_module_version": "1.5.0",
            "_view_count": null,
            "_view_module_version": "1.2.0",
            "bar_color": null,
            "_model_module": "@jupyter-widgets/controls"
          }
        },
        "5b26975195de42fd978749470a1ffe33": {
          "model_module": "@jupyter-widgets/base",
          "model_name": "LayoutModel",
          "state": {
            "_view_name": "LayoutView",
            "grid_template_rows": null,
            "right": null,
            "justify_content": null,
            "_view_module": "@jupyter-widgets/base",
            "overflow": null,
            "_model_module_version": "1.2.0",
            "_view_count": null,
            "flex_flow": null,
            "width": null,
            "min_width": null,
            "border": null,
            "align_items": null,
            "bottom": null,
            "_model_module": "@jupyter-widgets/base",
            "top": null,
            "grid_column": null,
            "overflow_y": null,
            "overflow_x": null,
            "grid_auto_flow": null,
            "grid_area": null,
            "grid_template_columns": null,
            "flex": null,
            "_model_name": "LayoutModel",
            "justify_items": null,
            "grid_row": null,
            "max_height": null,
            "align_content": null,
            "visibility": null,
            "align_self": null,
            "height": null,
            "min_height": null,
            "padding": null,
            "grid_auto_rows": null,
            "grid_gap": null,
            "max_width": null,
            "order": null,
            "_view_module_version": "1.2.0",
            "grid_template_areas": null,
            "object_position": null,
            "object_fit": null,
            "grid_auto_columns": null,
            "margin": null,
            "display": null,
            "left": null
          }
        },
        "90155357c4d049b38629d99460f7950a": {
          "model_module": "@jupyter-widgets/controls",
          "model_name": "DescriptionStyleModel",
          "state": {
            "_view_name": "StyleView",
            "_model_name": "DescriptionStyleModel",
            "description_width": "",
            "_view_module": "@jupyter-widgets/base",
            "_model_module_version": "1.5.0",
            "_view_count": null,
            "_view_module_version": "1.2.0",
            "_model_module": "@jupyter-widgets/controls"
          }
        },
        "e81e37b33ee74972919e4aa30cdb771f": {
          "model_module": "@jupyter-widgets/base",
          "model_name": "LayoutModel",
          "state": {
            "_view_name": "LayoutView",
            "grid_template_rows": null,
            "right": null,
            "justify_content": null,
            "_view_module": "@jupyter-widgets/base",
            "overflow": null,
            "_model_module_version": "1.2.0",
            "_view_count": null,
            "flex_flow": null,
            "width": null,
            "min_width": null,
            "border": null,
            "align_items": null,
            "bottom": null,
            "_model_module": "@jupyter-widgets/base",
            "top": null,
            "grid_column": null,
            "overflow_y": null,
            "overflow_x": null,
            "grid_auto_flow": null,
            "grid_area": null,
            "grid_template_columns": null,
            "flex": null,
            "_model_name": "LayoutModel",
            "justify_items": null,
            "grid_row": null,
            "max_height": null,
            "align_content": null,
            "visibility": null,
            "align_self": null,
            "height": null,
            "min_height": null,
            "padding": null,
            "grid_auto_rows": null,
            "grid_gap": null,
            "max_width": null,
            "order": null,
            "_view_module_version": "1.2.0",
            "grid_template_areas": null,
            "object_position": null,
            "object_fit": null,
            "grid_auto_columns": null,
            "margin": null,
            "display": null,
            "left": null
          }
        },
        "718fb300aa2b48afb54889d2c4a84120": {
          "model_module": "@jupyter-widgets/controls",
          "model_name": "HBoxModel",
          "state": {
            "_view_name": "HBoxView",
            "_dom_classes": [],
            "_model_name": "HBoxModel",
            "_view_module": "@jupyter-widgets/controls",
            "_model_module_version": "1.5.0",
            "_view_count": null,
            "_view_module_version": "1.5.0",
            "box_style": "",
            "layout": "IPY_MODEL_b5d1d68191704496bd1c8f0b30b97f88",
            "_model_module": "@jupyter-widgets/controls",
            "children": [
              "IPY_MODEL_f332e262dfcc42ec8b57f360e5029b42",
              "IPY_MODEL_9a2872dcbb9846d39fd105f59169b56b"
            ]
          }
        },
        "b5d1d68191704496bd1c8f0b30b97f88": {
          "model_module": "@jupyter-widgets/base",
          "model_name": "LayoutModel",
          "state": {
            "_view_name": "LayoutView",
            "grid_template_rows": null,
            "right": null,
            "justify_content": null,
            "_view_module": "@jupyter-widgets/base",
            "overflow": null,
            "_model_module_version": "1.2.0",
            "_view_count": null,
            "flex_flow": null,
            "width": null,
            "min_width": null,
            "border": null,
            "align_items": null,
            "bottom": null,
            "_model_module": "@jupyter-widgets/base",
            "top": null,
            "grid_column": null,
            "overflow_y": null,
            "overflow_x": null,
            "grid_auto_flow": null,
            "grid_area": null,
            "grid_template_columns": null,
            "flex": null,
            "_model_name": "LayoutModel",
            "justify_items": null,
            "grid_row": null,
            "max_height": null,
            "align_content": null,
            "visibility": null,
            "align_self": null,
            "height": null,
            "min_height": null,
            "padding": null,
            "grid_auto_rows": null,
            "grid_gap": null,
            "max_width": null,
            "order": null,
            "_view_module_version": "1.2.0",
            "grid_template_areas": null,
            "object_position": null,
            "object_fit": null,
            "grid_auto_columns": null,
            "margin": null,
            "display": null,
            "left": null
          }
        },
        "f332e262dfcc42ec8b57f360e5029b42": {
          "model_module": "@jupyter-widgets/controls",
          "model_name": "FloatProgressModel",
          "state": {
            "_view_name": "ProgressView",
            "style": "IPY_MODEL_f4b9ed43412f409387f2cd86dca2ab9c",
            "_dom_classes": [],
            "description": "Downloading: 100%",
            "_model_name": "FloatProgressModel",
            "bar_style": "success",
            "max": 466062,
            "_view_module": "@jupyter-widgets/controls",
            "_model_module_version": "1.5.0",
            "value": 466062,
            "_view_count": null,
            "_view_module_version": "1.5.0",
            "orientation": "horizontal",
            "min": 0,
            "description_tooltip": null,
            "_model_module": "@jupyter-widgets/controls",
            "layout": "IPY_MODEL_8e9455f86df84b409147eab52bbbeebf"
          }
        },
        "9a2872dcbb9846d39fd105f59169b56b": {
          "model_module": "@jupyter-widgets/controls",
          "model_name": "HTMLModel",
          "state": {
            "_view_name": "HTMLView",
            "style": "IPY_MODEL_804435b02f02451ca498b825a5242db8",
            "_dom_classes": [],
            "description": "",
            "_model_name": "HTMLModel",
            "placeholder": "​",
            "_view_module": "@jupyter-widgets/controls",
            "_model_module_version": "1.5.0",
            "value": " 466k/466k [00:00&lt;00:00, 1.03MB/s]",
            "_view_count": null,
            "_view_module_version": "1.5.0",
            "description_tooltip": null,
            "_model_module": "@jupyter-widgets/controls",
            "layout": "IPY_MODEL_bf3e1cf87ca84aba9438bfb24212792c"
          }
        },
        "f4b9ed43412f409387f2cd86dca2ab9c": {
          "model_module": "@jupyter-widgets/controls",
          "model_name": "ProgressStyleModel",
          "state": {
            "_view_name": "StyleView",
            "_model_name": "ProgressStyleModel",
            "description_width": "initial",
            "_view_module": "@jupyter-widgets/base",
            "_model_module_version": "1.5.0",
            "_view_count": null,
            "_view_module_version": "1.2.0",
            "bar_color": null,
            "_model_module": "@jupyter-widgets/controls"
          }
        },
        "8e9455f86df84b409147eab52bbbeebf": {
          "model_module": "@jupyter-widgets/base",
          "model_name": "LayoutModel",
          "state": {
            "_view_name": "LayoutView",
            "grid_template_rows": null,
            "right": null,
            "justify_content": null,
            "_view_module": "@jupyter-widgets/base",
            "overflow": null,
            "_model_module_version": "1.2.0",
            "_view_count": null,
            "flex_flow": null,
            "width": null,
            "min_width": null,
            "border": null,
            "align_items": null,
            "bottom": null,
            "_model_module": "@jupyter-widgets/base",
            "top": null,
            "grid_column": null,
            "overflow_y": null,
            "overflow_x": null,
            "grid_auto_flow": null,
            "grid_area": null,
            "grid_template_columns": null,
            "flex": null,
            "_model_name": "LayoutModel",
            "justify_items": null,
            "grid_row": null,
            "max_height": null,
            "align_content": null,
            "visibility": null,
            "align_self": null,
            "height": null,
            "min_height": null,
            "padding": null,
            "grid_auto_rows": null,
            "grid_gap": null,
            "max_width": null,
            "order": null,
            "_view_module_version": "1.2.0",
            "grid_template_areas": null,
            "object_position": null,
            "object_fit": null,
            "grid_auto_columns": null,
            "margin": null,
            "display": null,
            "left": null
          }
        },
        "804435b02f02451ca498b825a5242db8": {
          "model_module": "@jupyter-widgets/controls",
          "model_name": "DescriptionStyleModel",
          "state": {
            "_view_name": "StyleView",
            "_model_name": "DescriptionStyleModel",
            "description_width": "",
            "_view_module": "@jupyter-widgets/base",
            "_model_module_version": "1.5.0",
            "_view_count": null,
            "_view_module_version": "1.2.0",
            "_model_module": "@jupyter-widgets/controls"
          }
        },
        "bf3e1cf87ca84aba9438bfb24212792c": {
          "model_module": "@jupyter-widgets/base",
          "model_name": "LayoutModel",
          "state": {
            "_view_name": "LayoutView",
            "grid_template_rows": null,
            "right": null,
            "justify_content": null,
            "_view_module": "@jupyter-widgets/base",
            "overflow": null,
            "_model_module_version": "1.2.0",
            "_view_count": null,
            "flex_flow": null,
            "width": null,
            "min_width": null,
            "border": null,
            "align_items": null,
            "bottom": null,
            "_model_module": "@jupyter-widgets/base",
            "top": null,
            "grid_column": null,
            "overflow_y": null,
            "overflow_x": null,
            "grid_auto_flow": null,
            "grid_area": null,
            "grid_template_columns": null,
            "flex": null,
            "_model_name": "LayoutModel",
            "justify_items": null,
            "grid_row": null,
            "max_height": null,
            "align_content": null,
            "visibility": null,
            "align_self": null,
            "height": null,
            "min_height": null,
            "padding": null,
            "grid_auto_rows": null,
            "grid_gap": null,
            "max_width": null,
            "order": null,
            "_view_module_version": "1.2.0",
            "grid_template_areas": null,
            "object_position": null,
            "object_fit": null,
            "grid_auto_columns": null,
            "margin": null,
            "display": null,
            "left": null
          }
        },
        "30fb128e2c9d4e12af3b5d7d09d0e34d": {
          "model_module": "@jupyter-widgets/controls",
          "model_name": "HBoxModel",
          "state": {
            "_view_name": "HBoxView",
            "_dom_classes": [],
            "_model_name": "HBoxModel",
            "_view_module": "@jupyter-widgets/controls",
            "_model_module_version": "1.5.0",
            "_view_count": null,
            "_view_module_version": "1.5.0",
            "box_style": "",
            "layout": "IPY_MODEL_b0b36bff303c4ce9b3b6d38a24f52ae5",
            "_model_module": "@jupyter-widgets/controls",
            "children": [
              "IPY_MODEL_d33bca3d79ad404e890f0d4a72ffd9ed",
              "IPY_MODEL_4b47340fa7a849c69e0a86f364c0e087"
            ]
          }
        },
        "b0b36bff303c4ce9b3b6d38a24f52ae5": {
          "model_module": "@jupyter-widgets/base",
          "model_name": "LayoutModel",
          "state": {
            "_view_name": "LayoutView",
            "grid_template_rows": null,
            "right": null,
            "justify_content": null,
            "_view_module": "@jupyter-widgets/base",
            "overflow": null,
            "_model_module_version": "1.2.0",
            "_view_count": null,
            "flex_flow": null,
            "width": null,
            "min_width": null,
            "border": null,
            "align_items": null,
            "bottom": null,
            "_model_module": "@jupyter-widgets/base",
            "top": null,
            "grid_column": null,
            "overflow_y": null,
            "overflow_x": null,
            "grid_auto_flow": null,
            "grid_area": null,
            "grid_template_columns": null,
            "flex": null,
            "_model_name": "LayoutModel",
            "justify_items": null,
            "grid_row": null,
            "max_height": null,
            "align_content": null,
            "visibility": null,
            "align_self": null,
            "height": null,
            "min_height": null,
            "padding": null,
            "grid_auto_rows": null,
            "grid_gap": null,
            "max_width": null,
            "order": null,
            "_view_module_version": "1.2.0",
            "grid_template_areas": null,
            "object_position": null,
            "object_fit": null,
            "grid_auto_columns": null,
            "margin": null,
            "display": null,
            "left": null
          }
        },
        "d33bca3d79ad404e890f0d4a72ffd9ed": {
          "model_module": "@jupyter-widgets/controls",
          "model_name": "FloatProgressModel",
          "state": {
            "_view_name": "ProgressView",
            "style": "IPY_MODEL_f0beb3920c7d4a42bf3dcca2f9634491",
            "_dom_classes": [],
            "description": "Downloading: 100%",
            "_model_name": "FloatProgressModel",
            "bar_style": "success",
            "max": 570,
            "_view_module": "@jupyter-widgets/controls",
            "_model_module_version": "1.5.0",
            "value": 570,
            "_view_count": null,
            "_view_module_version": "1.5.0",
            "orientation": "horizontal",
            "min": 0,
            "description_tooltip": null,
            "_model_module": "@jupyter-widgets/controls",
            "layout": "IPY_MODEL_0b183f14fd314d4486761c49be190b5d"
          }
        },
        "4b47340fa7a849c69e0a86f364c0e087": {
          "model_module": "@jupyter-widgets/controls",
          "model_name": "HTMLModel",
          "state": {
            "_view_name": "HTMLView",
            "style": "IPY_MODEL_0b8b706660b74ed4912ad9b3f045b010",
            "_dom_classes": [],
            "description": "",
            "_model_name": "HTMLModel",
            "placeholder": "​",
            "_view_module": "@jupyter-widgets/controls",
            "_model_module_version": "1.5.0",
            "value": " 570/570 [00:01&lt;00:00, 363B/s]",
            "_view_count": null,
            "_view_module_version": "1.5.0",
            "description_tooltip": null,
            "_model_module": "@jupyter-widgets/controls",
            "layout": "IPY_MODEL_b16c0215860f4ce7ab4e283aa8c86b2a"
          }
        },
        "f0beb3920c7d4a42bf3dcca2f9634491": {
          "model_module": "@jupyter-widgets/controls",
          "model_name": "ProgressStyleModel",
          "state": {
            "_view_name": "StyleView",
            "_model_name": "ProgressStyleModel",
            "description_width": "initial",
            "_view_module": "@jupyter-widgets/base",
            "_model_module_version": "1.5.0",
            "_view_count": null,
            "_view_module_version": "1.2.0",
            "bar_color": null,
            "_model_module": "@jupyter-widgets/controls"
          }
        },
        "0b183f14fd314d4486761c49be190b5d": {
          "model_module": "@jupyter-widgets/base",
          "model_name": "LayoutModel",
          "state": {
            "_view_name": "LayoutView",
            "grid_template_rows": null,
            "right": null,
            "justify_content": null,
            "_view_module": "@jupyter-widgets/base",
            "overflow": null,
            "_model_module_version": "1.2.0",
            "_view_count": null,
            "flex_flow": null,
            "width": null,
            "min_width": null,
            "border": null,
            "align_items": null,
            "bottom": null,
            "_model_module": "@jupyter-widgets/base",
            "top": null,
            "grid_column": null,
            "overflow_y": null,
            "overflow_x": null,
            "grid_auto_flow": null,
            "grid_area": null,
            "grid_template_columns": null,
            "flex": null,
            "_model_name": "LayoutModel",
            "justify_items": null,
            "grid_row": null,
            "max_height": null,
            "align_content": null,
            "visibility": null,
            "align_self": null,
            "height": null,
            "min_height": null,
            "padding": null,
            "grid_auto_rows": null,
            "grid_gap": null,
            "max_width": null,
            "order": null,
            "_view_module_version": "1.2.0",
            "grid_template_areas": null,
            "object_position": null,
            "object_fit": null,
            "grid_auto_columns": null,
            "margin": null,
            "display": null,
            "left": null
          }
        },
        "0b8b706660b74ed4912ad9b3f045b010": {
          "model_module": "@jupyter-widgets/controls",
          "model_name": "DescriptionStyleModel",
          "state": {
            "_view_name": "StyleView",
            "_model_name": "DescriptionStyleModel",
            "description_width": "",
            "_view_module": "@jupyter-widgets/base",
            "_model_module_version": "1.5.0",
            "_view_count": null,
            "_view_module_version": "1.2.0",
            "_model_module": "@jupyter-widgets/controls"
          }
        },
        "b16c0215860f4ce7ab4e283aa8c86b2a": {
          "model_module": "@jupyter-widgets/base",
          "model_name": "LayoutModel",
          "state": {
            "_view_name": "LayoutView",
            "grid_template_rows": null,
            "right": null,
            "justify_content": null,
            "_view_module": "@jupyter-widgets/base",
            "overflow": null,
            "_model_module_version": "1.2.0",
            "_view_count": null,
            "flex_flow": null,
            "width": null,
            "min_width": null,
            "border": null,
            "align_items": null,
            "bottom": null,
            "_model_module": "@jupyter-widgets/base",
            "top": null,
            "grid_column": null,
            "overflow_y": null,
            "overflow_x": null,
            "grid_auto_flow": null,
            "grid_area": null,
            "grid_template_columns": null,
            "flex": null,
            "_model_name": "LayoutModel",
            "justify_items": null,
            "grid_row": null,
            "max_height": null,
            "align_content": null,
            "visibility": null,
            "align_self": null,
            "height": null,
            "min_height": null,
            "padding": null,
            "grid_auto_rows": null,
            "grid_gap": null,
            "max_width": null,
            "order": null,
            "_view_module_version": "1.2.0",
            "grid_template_areas": null,
            "object_position": null,
            "object_fit": null,
            "grid_auto_columns": null,
            "margin": null,
            "display": null,
            "left": null
          }
        },
        "5eff302ee0a146f48f03a6062e852a82": {
          "model_module": "@jupyter-widgets/controls",
          "model_name": "HBoxModel",
          "state": {
            "_view_name": "HBoxView",
            "_dom_classes": [],
            "_model_name": "HBoxModel",
            "_view_module": "@jupyter-widgets/controls",
            "_model_module_version": "1.5.0",
            "_view_count": null,
            "_view_module_version": "1.5.0",
            "box_style": "",
            "layout": "IPY_MODEL_d8fdd6a6fd604dd7b1dde6113b928149",
            "_model_module": "@jupyter-widgets/controls",
            "children": [
              "IPY_MODEL_b869bc8af7994f118fe53dc7dfa3fcf3",
              "IPY_MODEL_9bcb85c57d104060adc76bb9a36bbc28"
            ]
          }
        },
        "d8fdd6a6fd604dd7b1dde6113b928149": {
          "model_module": "@jupyter-widgets/base",
          "model_name": "LayoutModel",
          "state": {
            "_view_name": "LayoutView",
            "grid_template_rows": null,
            "right": null,
            "justify_content": null,
            "_view_module": "@jupyter-widgets/base",
            "overflow": null,
            "_model_module_version": "1.2.0",
            "_view_count": null,
            "flex_flow": null,
            "width": null,
            "min_width": null,
            "border": null,
            "align_items": null,
            "bottom": null,
            "_model_module": "@jupyter-widgets/base",
            "top": null,
            "grid_column": null,
            "overflow_y": null,
            "overflow_x": null,
            "grid_auto_flow": null,
            "grid_area": null,
            "grid_template_columns": null,
            "flex": null,
            "_model_name": "LayoutModel",
            "justify_items": null,
            "grid_row": null,
            "max_height": null,
            "align_content": null,
            "visibility": null,
            "align_self": null,
            "height": null,
            "min_height": null,
            "padding": null,
            "grid_auto_rows": null,
            "grid_gap": null,
            "max_width": null,
            "order": null,
            "_view_module_version": "1.2.0",
            "grid_template_areas": null,
            "object_position": null,
            "object_fit": null,
            "grid_auto_columns": null,
            "margin": null,
            "display": null,
            "left": null
          }
        },
        "b869bc8af7994f118fe53dc7dfa3fcf3": {
          "model_module": "@jupyter-widgets/controls",
          "model_name": "FloatProgressModel",
          "state": {
            "_view_name": "ProgressView",
            "style": "IPY_MODEL_d12547033cba4017872913f805137432",
            "_dom_classes": [],
            "description": "Downloading: 100%",
            "_model_name": "FloatProgressModel",
            "bar_style": "success",
            "max": 440473133,
            "_view_module": "@jupyter-widgets/controls",
            "_model_module_version": "1.5.0",
            "value": 440473133,
            "_view_count": null,
            "_view_module_version": "1.5.0",
            "orientation": "horizontal",
            "min": 0,
            "description_tooltip": null,
            "_model_module": "@jupyter-widgets/controls",
            "layout": "IPY_MODEL_c51ec0be6635441eab3c61c585f5f468"
          }
        },
        "9bcb85c57d104060adc76bb9a36bbc28": {
          "model_module": "@jupyter-widgets/controls",
          "model_name": "HTMLModel",
          "state": {
            "_view_name": "HTMLView",
            "style": "IPY_MODEL_3a29e4b1092f4e9f9000dc69411a82df",
            "_dom_classes": [],
            "description": "",
            "_model_name": "HTMLModel",
            "placeholder": "​",
            "_view_module": "@jupyter-widgets/controls",
            "_model_module_version": "1.5.0",
            "value": " 440M/440M [00:09&lt;00:00, 47.5MB/s]",
            "_view_count": null,
            "_view_module_version": "1.5.0",
            "description_tooltip": null,
            "_model_module": "@jupyter-widgets/controls",
            "layout": "IPY_MODEL_fe1b1bce585d437fa65443c667ff0f16"
          }
        },
        "d12547033cba4017872913f805137432": {
          "model_module": "@jupyter-widgets/controls",
          "model_name": "ProgressStyleModel",
          "state": {
            "_view_name": "StyleView",
            "_model_name": "ProgressStyleModel",
            "description_width": "initial",
            "_view_module": "@jupyter-widgets/base",
            "_model_module_version": "1.5.0",
            "_view_count": null,
            "_view_module_version": "1.2.0",
            "bar_color": null,
            "_model_module": "@jupyter-widgets/controls"
          }
        },
        "c51ec0be6635441eab3c61c585f5f468": {
          "model_module": "@jupyter-widgets/base",
          "model_name": "LayoutModel",
          "state": {
            "_view_name": "LayoutView",
            "grid_template_rows": null,
            "right": null,
            "justify_content": null,
            "_view_module": "@jupyter-widgets/base",
            "overflow": null,
            "_model_module_version": "1.2.0",
            "_view_count": null,
            "flex_flow": null,
            "width": null,
            "min_width": null,
            "border": null,
            "align_items": null,
            "bottom": null,
            "_model_module": "@jupyter-widgets/base",
            "top": null,
            "grid_column": null,
            "overflow_y": null,
            "overflow_x": null,
            "grid_auto_flow": null,
            "grid_area": null,
            "grid_template_columns": null,
            "flex": null,
            "_model_name": "LayoutModel",
            "justify_items": null,
            "grid_row": null,
            "max_height": null,
            "align_content": null,
            "visibility": null,
            "align_self": null,
            "height": null,
            "min_height": null,
            "padding": null,
            "grid_auto_rows": null,
            "grid_gap": null,
            "max_width": null,
            "order": null,
            "_view_module_version": "1.2.0",
            "grid_template_areas": null,
            "object_position": null,
            "object_fit": null,
            "grid_auto_columns": null,
            "margin": null,
            "display": null,
            "left": null
          }
        },
        "3a29e4b1092f4e9f9000dc69411a82df": {
          "model_module": "@jupyter-widgets/controls",
          "model_name": "DescriptionStyleModel",
          "state": {
            "_view_name": "StyleView",
            "_model_name": "DescriptionStyleModel",
            "description_width": "",
            "_view_module": "@jupyter-widgets/base",
            "_model_module_version": "1.5.0",
            "_view_count": null,
            "_view_module_version": "1.2.0",
            "_model_module": "@jupyter-widgets/controls"
          }
        },
        "fe1b1bce585d437fa65443c667ff0f16": {
          "model_module": "@jupyter-widgets/base",
          "model_name": "LayoutModel",
          "state": {
            "_view_name": "LayoutView",
            "grid_template_rows": null,
            "right": null,
            "justify_content": null,
            "_view_module": "@jupyter-widgets/base",
            "overflow": null,
            "_model_module_version": "1.2.0",
            "_view_count": null,
            "flex_flow": null,
            "width": null,
            "min_width": null,
            "border": null,
            "align_items": null,
            "bottom": null,
            "_model_module": "@jupyter-widgets/base",
            "top": null,
            "grid_column": null,
            "overflow_y": null,
            "overflow_x": null,
            "grid_auto_flow": null,
            "grid_area": null,
            "grid_template_columns": null,
            "flex": null,
            "_model_name": "LayoutModel",
            "justify_items": null,
            "grid_row": null,
            "max_height": null,
            "align_content": null,
            "visibility": null,
            "align_self": null,
            "height": null,
            "min_height": null,
            "padding": null,
            "grid_auto_rows": null,
            "grid_gap": null,
            "max_width": null,
            "order": null,
            "_view_module_version": "1.2.0",
            "grid_template_areas": null,
            "object_position": null,
            "object_fit": null,
            "grid_auto_columns": null,
            "margin": null,
            "display": null,
            "left": null
          }
        },
        "a536d0f866f04cf89a79097f1412196a": {
          "model_module": "@jupyter-widgets/controls",
          "model_name": "HBoxModel",
          "state": {
            "_view_name": "HBoxView",
            "_dom_classes": [],
            "_model_name": "HBoxModel",
            "_view_module": "@jupyter-widgets/controls",
            "_model_module_version": "1.5.0",
            "_view_count": null,
            "_view_module_version": "1.5.0",
            "box_style": "",
            "layout": "IPY_MODEL_a586dc8abec44b73860b1d41f5087c3f",
            "_model_module": "@jupyter-widgets/controls",
            "children": [
              "IPY_MODEL_05035cdfdfec40a8ac51c3493191e2bc",
              "IPY_MODEL_1c5728c7c6d34d1e91dc8f9e2dc5bfba"
            ]
          }
        },
        "a586dc8abec44b73860b1d41f5087c3f": {
          "model_module": "@jupyter-widgets/base",
          "model_name": "LayoutModel",
          "state": {
            "_view_name": "LayoutView",
            "grid_template_rows": null,
            "right": null,
            "justify_content": null,
            "_view_module": "@jupyter-widgets/base",
            "overflow": null,
            "_model_module_version": "1.2.0",
            "_view_count": null,
            "flex_flow": null,
            "width": null,
            "min_width": null,
            "border": null,
            "align_items": null,
            "bottom": null,
            "_model_module": "@jupyter-widgets/base",
            "top": null,
            "grid_column": null,
            "overflow_y": null,
            "overflow_x": null,
            "grid_auto_flow": null,
            "grid_area": null,
            "grid_template_columns": null,
            "flex": null,
            "_model_name": "LayoutModel",
            "justify_items": null,
            "grid_row": null,
            "max_height": null,
            "align_content": null,
            "visibility": null,
            "align_self": null,
            "height": null,
            "min_height": null,
            "padding": null,
            "grid_auto_rows": null,
            "grid_gap": null,
            "max_width": null,
            "order": null,
            "_view_module_version": "1.2.0",
            "grid_template_areas": null,
            "object_position": null,
            "object_fit": null,
            "grid_auto_columns": null,
            "margin": null,
            "display": null,
            "left": null
          }
        },
        "05035cdfdfec40a8ac51c3493191e2bc": {
          "model_module": "@jupyter-widgets/controls",
          "model_name": "FloatProgressModel",
          "state": {
            "_view_name": "ProgressView",
            "style": "IPY_MODEL_2485aa411ad541b9817b551b22869517",
            "_dom_classes": [],
            "description": "100%",
            "_model_name": "FloatProgressModel",
            "bar_style": "success",
            "max": 25413,
            "_view_module": "@jupyter-widgets/controls",
            "_model_module_version": "1.5.0",
            "value": 25413,
            "_view_count": null,
            "_view_module_version": "1.5.0",
            "orientation": "horizontal",
            "min": 0,
            "description_tooltip": null,
            "_model_module": "@jupyter-widgets/controls",
            "layout": "IPY_MODEL_fb8fbc5055e04927951aaee7e8492e1b"
          }
        },
        "1c5728c7c6d34d1e91dc8f9e2dc5bfba": {
          "model_module": "@jupyter-widgets/controls",
          "model_name": "HTMLModel",
          "state": {
            "_view_name": "HTMLView",
            "style": "IPY_MODEL_a7a6b0fcc97b47c89c1b0f17b10f99e8",
            "_dom_classes": [],
            "description": "",
            "_model_name": "HTMLModel",
            "placeholder": "​",
            "_view_module": "@jupyter-widgets/controls",
            "_model_module_version": "1.5.0",
            "value": " 25413/25413 [12:11&lt;00:00, 34.75it/s]",
            "_view_count": null,
            "_view_module_version": "1.5.0",
            "description_tooltip": null,
            "_model_module": "@jupyter-widgets/controls",
            "layout": "IPY_MODEL_41be184e907c42e4884f784d7e4ed963"
          }
        },
        "2485aa411ad541b9817b551b22869517": {
          "model_module": "@jupyter-widgets/controls",
          "model_name": "ProgressStyleModel",
          "state": {
            "_view_name": "StyleView",
            "_model_name": "ProgressStyleModel",
            "description_width": "initial",
            "_view_module": "@jupyter-widgets/base",
            "_model_module_version": "1.5.0",
            "_view_count": null,
            "_view_module_version": "1.2.0",
            "bar_color": null,
            "_model_module": "@jupyter-widgets/controls"
          }
        },
        "fb8fbc5055e04927951aaee7e8492e1b": {
          "model_module": "@jupyter-widgets/base",
          "model_name": "LayoutModel",
          "state": {
            "_view_name": "LayoutView",
            "grid_template_rows": null,
            "right": null,
            "justify_content": null,
            "_view_module": "@jupyter-widgets/base",
            "overflow": null,
            "_model_module_version": "1.2.0",
            "_view_count": null,
            "flex_flow": null,
            "width": null,
            "min_width": null,
            "border": null,
            "align_items": null,
            "bottom": null,
            "_model_module": "@jupyter-widgets/base",
            "top": null,
            "grid_column": null,
            "overflow_y": null,
            "overflow_x": null,
            "grid_auto_flow": null,
            "grid_area": null,
            "grid_template_columns": null,
            "flex": null,
            "_model_name": "LayoutModel",
            "justify_items": null,
            "grid_row": null,
            "max_height": null,
            "align_content": null,
            "visibility": null,
            "align_self": null,
            "height": null,
            "min_height": null,
            "padding": null,
            "grid_auto_rows": null,
            "grid_gap": null,
            "max_width": null,
            "order": null,
            "_view_module_version": "1.2.0",
            "grid_template_areas": null,
            "object_position": null,
            "object_fit": null,
            "grid_auto_columns": null,
            "margin": null,
            "display": null,
            "left": null
          }
        },
        "a7a6b0fcc97b47c89c1b0f17b10f99e8": {
          "model_module": "@jupyter-widgets/controls",
          "model_name": "DescriptionStyleModel",
          "state": {
            "_view_name": "StyleView",
            "_model_name": "DescriptionStyleModel",
            "description_width": "",
            "_view_module": "@jupyter-widgets/base",
            "_model_module_version": "1.5.0",
            "_view_count": null,
            "_view_module_version": "1.2.0",
            "_model_module": "@jupyter-widgets/controls"
          }
        },
        "41be184e907c42e4884f784d7e4ed963": {
          "model_module": "@jupyter-widgets/base",
          "model_name": "LayoutModel",
          "state": {
            "_view_name": "LayoutView",
            "grid_template_rows": null,
            "right": null,
            "justify_content": null,
            "_view_module": "@jupyter-widgets/base",
            "overflow": null,
            "_model_module_version": "1.2.0",
            "_view_count": null,
            "flex_flow": null,
            "width": null,
            "min_width": null,
            "border": null,
            "align_items": null,
            "bottom": null,
            "_model_module": "@jupyter-widgets/base",
            "top": null,
            "grid_column": null,
            "overflow_y": null,
            "overflow_x": null,
            "grid_auto_flow": null,
            "grid_area": null,
            "grid_template_columns": null,
            "flex": null,
            "_model_name": "LayoutModel",
            "justify_items": null,
            "grid_row": null,
            "max_height": null,
            "align_content": null,
            "visibility": null,
            "align_self": null,
            "height": null,
            "min_height": null,
            "padding": null,
            "grid_auto_rows": null,
            "grid_gap": null,
            "max_width": null,
            "order": null,
            "_view_module_version": "1.2.0",
            "grid_template_areas": null,
            "object_position": null,
            "object_fit": null,
            "grid_auto_columns": null,
            "margin": null,
            "display": null,
            "left": null
          }
        }
      }
    }
  },
  "cells": [
    {
      "cell_type": "markdown",
      "metadata": {
        "id": "Bg-4CwRO_0ii"
      },
      "source": [
        "# Import necessary libraries"
      ]
    },
    {
      "cell_type": "code",
      "metadata": {
        "colab": {
          "base_uri": "https://localhost:8080/"
        },
        "id": "Y_YW2C8zy5fd",
        "outputId": "1a39cee7-d0c1-411b-95e1-71311fefb631"
      },
      "source": [
        "import pandas as pd\n",
        "from sklearn.feature_extraction.text import TfidfVectorizer\n",
        "import nltk\n",
        "nltk.download('stopwords')\n",
        "from nltk.corpus import stopwords\n",
        "import numpy as np\n",
        "from nltk.tokenize import word_tokenize  \n",
        "from sklearn.feature_extraction.text import CountVectorizer\n",
        "from sklearn.pipeline import Pipeline, make_pipeline, FeatureUnion\n",
        "from sklearn.model_selection import train_test_split\n",
        "from sklearn.preprocessing import FunctionTransformer\n",
        "from scipy.sparse import coo_matrix, hstack\n",
        "from sklearn import metrics\n",
        "!pip install -q transformers \n",
        "import torch\n",
        "from torch import nn, optim\n",
        "import tqdm.notebook as tq\n",
        "import pickle\n",
        "device = torch.device(\"cuda\" if torch.cuda.is_available() else \"cpu\")\n",
        "from sklearn.svm import SVC, LinearSVC\n",
        "from sklearn.ensemble import RandomForestClassifier\n",
        "from sklearn.metrics import confusion_matrix, plot_confusion_matrix\n",
        "from torch.utils.data import Dataset, DataLoader\n",
        "from sklearn.svm import SVC, LinearSVC\n",
        "from sklearn.ensemble import RandomForestClassifier\n",
        "from sklearn.neural_network import MLPClassifier\n",
        "from sklearn.linear_model import LogisticRegression\n",
        "from sklearn.metrics import confusion_matrix, plot_confusion_matrix\n",
        "import time\n",
        "import scipy\n",
        "import matplotlib.pyplot as plt\n",
        "from tqdm.notebook import tqdm\n",
        "from torchsummary import summary"
      ],
      "execution_count": null,
      "outputs": [
        {
          "output_type": "stream",
          "text": [
            "[nltk_data] Downloading package stopwords to /root/nltk_data...\n",
            "[nltk_data]   Unzipping corpora/stopwords.zip.\n",
            "\u001b[K     |████████████████████████████████| 2.3MB 15.2MB/s \n",
            "\u001b[K     |████████████████████████████████| 3.3MB 51.4MB/s \n",
            "\u001b[K     |████████████████████████████████| 901kB 51.6MB/s \n",
            "\u001b[?25h"
          ],
          "name": "stdout"
        }
      ]
    },
    {
      "cell_type": "code",
      "metadata": {
        "id": "a1C8zfp6UxUF"
      },
      "source": [
        "#functions to save and load models and data\n",
        "def save(item,name):\n",
        "    filename = '/content/drive/MyDrive/FakeNewsData/{}.sav'.format(name)\n",
        "    pickle.dump(item, open(filename, 'wb'))\n",
        "def load(name):\n",
        "    filename = '/content/drive/MyDrive/FakeNewsData/{}.sav'.format(name)\n",
        "    with open(filename, \"rb\") as fp:   # Unpickling\n",
        "        temp = pickle.load(fp)\n",
        "    return temp\n",
        "def cycle(iterable):\n",
        "    while True:\n",
        "        for x in iterable:\n",
        "            yield x"
      ],
      "execution_count": null,
      "outputs": []
    },
    {
      "cell_type": "code",
      "metadata": {
        "colab": {
          "base_uri": "https://localhost:8080/",
          "height": 363
        },
        "id": "llADOXChzI-9",
        "outputId": "265fad2d-c92d-497e-8933-19934c2deceb"
      },
      "source": [
        "bodies_df = pd.read_csv(\"/content/drive/MyDrive/FakeNewsData/train_bodies.csv\")\n",
        "stances_df = pd.read_csv(\"/content/drive/MyDrive/FakeNewsData/train_stances.csv\")\n",
        "test_bodies_df =pd.read_csv(\"/content/drive/MyDrive/FakeNewsData/competition_test_bodies.csv\")\n",
        "test_stances_df = pd.read_csv(\"/content/drive/MyDrive/FakeNewsData/competition_test_stances.csv\")\n",
        "\n",
        "train_data = pd.merge(bodies_df,stances_df,on=\"Body ID\",how=\"inner\")\n",
        "train_data = train_data.drop(\"Body ID\", axis=1)\n",
        "\n",
        "validation_data = train_data.sample(frac=0.15,random_state=1)\n",
        "train_data = train_data.drop(validation_data.index)\n",
        "\n",
        "test_data = pd.merge(test_bodies_df,test_stances_df,on=\"Body ID\",how=\"inner\")\n",
        "test_data = test_data.drop(\"Body ID\", axis=1)\n",
        "\n",
        "print(f\"Number of training examples: {len(train_data)}\")\n",
        "print(f\"Number of training examples: {len(validation_data)}\")\n",
        "print(f\"Number of testing examples: {len(test_data)}\")\n",
        "test_data.Stance.value_counts().sort_values().plot(kind = 'barh')\n",
        "plt.title(\"Stance count in training data\")\n",
        "plt.xlabel(\"Number of items in a stance\")\n",
        "plt.ylabel(\"Stance\")\n",
        "plt.savefig(\"/content/drive/MyDrive/FakeNewsData/Outputs/imbalance.png\")"
      ],
      "execution_count": null,
      "outputs": [
        {
          "output_type": "stream",
          "text": [
            "Number of training examples: 42476\n",
            "Number of training examples: 7496\n",
            "Number of testing examples: 25413\n"
          ],
          "name": "stdout"
        },
        {
          "output_type": "execute_result",
          "data": {
            "text/plain": [
              "Text(0, 0.5, 'Stance')"
            ]
          },
          "metadata": {
            "tags": []
          },
          "execution_count": 20
        },
        {
          "output_type": "display_data",
          "data": {
            "image/png": "[encoded data removed]",
            "text/plain": [
              "<Figure size 432x288 with 1 Axes>"
            ]
          },
          "metadata": {
            "tags": [],
            "needs_background": "light"
          }
        }
      ]
    },
    {
      "cell_type": "markdown",
      "metadata": {
        "id": "2I2XsbYEAK_I"
      },
      "source": [
        "# TF-IDF \n"
      ]
    },
    {
      "cell_type": "code",
      "metadata": {
        "id": "ssIYshSfAGtj"
      },
      "source": [
        "stop_words = set(stopwords.words(\"english\"))\n",
        "\n",
        "tfidfVect_body = TfidfVectorizer(sublinear_tf = True,decode_error='ignore', min_df=2,stop_words=None)\n",
        "tfidfVect_head = TfidfVectorizer(sublinear_tf = True,decode_error='ignore', min_df=2,stop_words=None)\n",
        "\n",
        "#train data tfidf\n",
        "body_train_tfidf = tfidfVect_body.fit_transform(train_data.articleBody.values.astype('U'))\n",
        "head_train_tfidf = tfidfVect_head.fit_transform(train_data.Headline.values.astype('U'))\n",
        "#test data tfidf\n",
        "body_test_tfidf = tfidfVect_body.transform(test_data.articleBody.values.astype('U'))\n",
        "head_test_tfidf = tfidfVect_head.transform(test_data.Headline.values.astype('U'))\n",
        "#validation data tfidf\n",
        "body_validate_tfidf = tfidfVect_body.transform(validation_data.articleBody.values.astype('U'))\n",
        "head_validate_tfidf = tfidfVect_head.transform(validation_data.Headline.values.astype('U'))"
      ],
      "execution_count": null,
      "outputs": []
    },
    {
      "cell_type": "markdown",
      "metadata": {
        "id": "V-uPmo4GEFWa"
      },
      "source": [
        "make the dataset binary"
      ]
    },
    {
      "cell_type": "code",
      "metadata": {
        "id": "KjY8D0tiD-yH"
      },
      "source": [
        "binary_dict = {'unrelated':\"unrelated\", 'discuss':\"related\", 'agree':\"related\", 'disagree':\"related\"}\n",
        "\n",
        "train_binary_stance = train_data.Stance.map(binary_dict)\n",
        "test_binary_stance = test_data.Stance.map(binary_dict)\n",
        "train_binary_stance.value_counts().sort_values().plot(kind = 'barh')\n",
        "plt.title(\"Stance count in binary training data\")\n",
        "plt.xlabel(\"Number of items in a stance\")\n",
        "plt.ylabel(\"Stance\")\n",
        "plt.savefig(\"/content/drive/MyDrive/FakeNewsData/Outputs/imbalanceBinary.png\")\n",
        "combined_tfidf_train = hstack([body_train_tfidf,head_train_tfidf])\n",
        "combined_tfidf_test = hstack([body_test_tfidf,head_test_tfidf])"
      ],
      "execution_count": null,
      "outputs": []
    },
    {
      "cell_type": "markdown",
      "metadata": {
        "id": "2YilwxYXEQgy"
      },
      "source": [
        "# TFIDF Machine Learning"
      ]
    },
    {
      "cell_type": "code",
      "metadata": {
        "colab": {
          "base_uri": "https://localhost:8080/"
        },
        "id": "i9tnUfJQEQMu",
        "outputId": "bfadc568-a40c-4d10-c611-317f731ad7a8"
      },
      "source": [
        "def train_clf_tfidf(clf, name):\n",
        "    start = time.time()\n",
        "    clf.fit(combined_tfidf_train, list(train_binary_stance.values))\n",
        "    final_t = time.time()-start\n",
        "    print(\"{} classifier finished training, taking {:.0f} seconds\".format(name,final_t))\n",
        "    return clf\n",
        "rf_classifier = RandomForestClassifier(n_estimators=10)\n",
        "svm = SVC()\n",
        "mlp_tfidf = MLPClassifier()\n",
        "train_clf_tfidf(rf_classifier,\"RandomForest\")\n",
        "train_clf_tfidf(svm, \"SVM\")\n",
        "mlp_tfidf=train_clf_tfidf(mlp_tfidf, \"MLP\")\n",
        "\n",
        "print(\"Models Trained\")"
      ],
      "execution_count": null,
      "outputs": [
        {
          "output_type": "stream",
          "text": [
            "RandomForest classifier finished training, taking 22 seconds\n",
            "SVM classifier finished training, taking 6029 seconds\n",
            "MLP classifier finished training, taking 1106 seconds\n",
            "Models Trained\n"
          ],
          "name": "stdout"
        }
      ]
    },
    {
      "cell_type": "code",
      "metadata": {
        "id": "y8NBNm-6Ea7h"
      },
      "source": [
        "def plot_results(classifier,name):\n",
        "    y_true = list(test_binary_stance.values)\n",
        "    y_data=combined_tfidf_test\n",
        "    y_pred = classifier.predict(y_data)\n",
        "    disp=metrics.ConfusionMatrixDisplay(metrics.confusion_matrix(y_true,y_pred,normalize=None),display_labels=classifier.classes_)\n",
        "    disp.plot(cmap=plt.cm.Blues,values_format=\"\")\n",
        "    plt.title('Confusion matrix of {}'.format(name))\n",
        "    plt.savefig(\"/content/drive/MyDrive/FakeNewsData/Outputs/{}_Matrix.png\".format(name))\n",
        "    print(metrics.classification_report(y_true,y_pred))"
      ],
      "execution_count": null,
      "outputs": []
    },
    {
      "cell_type": "markdown",
      "metadata": {
        "id": "g4pGJ-4uGXNF"
      },
      "source": [
        "function to plot results"
      ]
    },
    {
      "cell_type": "code",
      "metadata": {
        "colab": {
          "base_uri": "https://localhost:8080/",
          "height": 448
        },
        "id": "EeKjlq4-Gauf",
        "outputId": "b9c09cf2-21df-46e9-b522-49ee9f0c0d29"
      },
      "source": [
        "plot_results(rf_classifier,\"RandomForest_withStopwords\")"
      ],
      "execution_count": null,
      "outputs": [
        {
          "output_type": "stream",
          "text": [
            "              precision    recall  f1-score   support\n",
            "\n",
            "     related       0.33      0.45      0.38      7064\n",
            "   unrelated       0.76      0.65      0.70     18349\n",
            "\n",
            "    accuracy                           0.60     25413\n",
            "   macro avg       0.54      0.55      0.54     25413\n",
            "weighted avg       0.64      0.60      0.61     25413\n",
            "\n"
          ],
          "name": "stdout"
        },
        {
          "output_type": "display_data",
          "data": {
            "image/png": "[encoded data removed]",
            "text/plain": [
              "<Figure size 432x288 with 2 Axes>"
            ]
          },
          "metadata": {
            "tags": [],
            "needs_background": "light"
          }
        }
      ]
    },
    {
      "cell_type": "code",
      "metadata": {
        "colab": {
          "base_uri": "https://localhost:8080/",
          "height": 448
        },
        "id": "GMcsdMtzGbLJ",
        "outputId": "ec945970-4b66-44d6-e01f-0ab4f0e38d6a"
      },
      "source": [
        "plot_results(svm,\"SVM_withStopwords\")"
      ],
      "execution_count": null,
      "outputs": [
        {
          "output_type": "stream",
          "text": [
            "              precision    recall  f1-score   support\n",
            "\n",
            "     related       0.93      0.06      0.12      7064\n",
            "   unrelated       0.73      1.00      0.85     18349\n",
            "\n",
            "    accuracy                           0.74     25413\n",
            "   macro avg       0.83      0.53      0.48     25413\n",
            "weighted avg       0.79      0.74      0.64     25413\n",
            "\n"
          ],
          "name": "stdout"
        },
        {
          "output_type": "display_data",
          "data": {
            "image/png": "[encoded data removed]",
            "text/plain": [
              "<Figure size 432x288 with 2 Axes>"
            ]
          },
          "metadata": {
            "tags": [],
            "needs_background": "light"
          }
        }
      ]
    },
    {
      "cell_type": "code",
      "metadata": {
        "id": "BUe7fqYFfE1p"
      },
      "source": [
        "save(mlp_tfidf,\"mlp_weights_stop\")\n",
        "save(svm,\"svm_weights_stop\")\n",
        "save(rf_classifier,\"rf_weights_stop\")"
      ],
      "execution_count": null,
      "outputs": []
    },
    {
      "cell_type": "markdown",
      "metadata": {
        "id": "lorajHaskLGg"
      },
      "source": [
        "tfidf results plotted from scores gathered from the classification report "
      ]
    },
    {
      "cell_type": "code",
      "metadata": {
        "colab": {
          "base_uri": "https://localhost:8080/",
          "height": 281
        },
        "id": "jA5LNcEGZywB",
        "outputId": "f5136cc7-cd74-43b8-f5de-0bfd91d2e898"
      },
      "source": [
        "#scores based on the confusion matrices generate above\n",
        "import matplotlib.pyplot as plt\n",
        "import numpy as np\n",
        "#without stopwords\n",
        "# metrics_labels=[\"accuracy\",\"f1\",\"precision\",\"recall\"]\n",
        "metrics_labels=[\"accuracy\",\"f1\"]\n",
        "\n",
        "X = np.arange(2)\n",
        "\n",
        "# mlp = [0.99,0.98,0.98,0.98]\n",
        "# svm = [0.97,0.96,0.94,0.98]\n",
        "# rf = [0.94,0.93,0.91,0.94]\n",
        "# cnn = [0.99,0.98,0.98,0.99]\n",
        "\n",
        "svm=[0.74,0.48]\n",
        "rf = [0.60,0.54]\n",
        "mlp = [0.67,0.65]\n",
        "cnn = [0.52,0.52]\n",
        "ax = plt.subplot(111)\n",
        "\n",
        "mlp_pl = ax.bar(X,mlp, width=0.20 )\n",
        "svm_pl  = ax.bar(X+0.20,svm, width=0.20 )\n",
        "rf_pl  = ax.bar(X+0.40,rf, width=0.20)\n",
        "cnn_pl  = ax.bar(X+0.60,cnn, width=0.20)\n",
        "\n",
        "\n",
        "ax.set_ylabel('Scores')\n",
        "ax.set_title('Scores metric and model')\n",
        "ax.set_xticks([0.3,1.3])\n",
        "ax.set_xticklabels(metrics_labels)\n",
        "ax.legend((mlp_pl[0],svm_pl[0],rf_pl[0],cnn_pl[0]),[\"MLP\",\"SVM\",\"Forest\",\"CNN\"],loc=\"upper right\")\n",
        "plt.ylim(0,1)\n",
        "\n",
        "plt.savefig(\"tfidf_scores.png\")"
      ],
      "execution_count": null,
      "outputs": [
        {
          "output_type": "display_data",
          "data": {
            "image/png": "[encoded data removed]",
            "text/plain": [
              "<Figure size 432x288 with 1 Axes>"
            ]
          },
          "metadata": {
            "tags": [],
            "needs_background": "light"
          }
        }
      ]
    },
    {
      "cell_type": "markdown",
      "metadata": {
        "id": "D-VwJNEIGlFc"
      },
      "source": [
        "# Deep Learning Classification with TFIDF"
      ]
    },
    {
      "cell_type": "code",
      "metadata": {
        "colab": {
          "base_uri": "https://localhost:8080/",
          "height": 448
        },
        "id": "3HdUCo1nGbTw",
        "outputId": "61d0a0f0-8a7a-46a8-bee7-99256ec70d76"
      },
      "source": [
        "plot_results(mlp_tfidf,\"MLP_withStopwords\")"
      ],
      "execution_count": null,
      "outputs": [
        {
          "output_type": "stream",
          "text": [
            "              precision    recall  f1-score   support\n",
            "\n",
            "     related       0.45      0.83      0.58      7064\n",
            "   unrelated       0.90      0.61      0.73     18349\n",
            "\n",
            "    accuracy                           0.67     25413\n",
            "   macro avg       0.68      0.72      0.65     25413\n",
            "weighted avg       0.78      0.67      0.69     25413\n",
            "\n"
          ],
          "name": "stdout"
        },
        {
          "output_type": "display_data",
          "data": {
            "image/png": "[encoded data removed]",
            "text/plain": [
              "<Figure size 432x288 with 2 Axes>"
            ]
          },
          "metadata": {
            "tags": [],
            "needs_background": "light"
          }
        }
      ]
    },
    {
      "cell_type": "markdown",
      "metadata": {
        "id": "7O97F0S_EH4v"
      },
      "source": [
        "dataset method for the TFIDF features"
      ]
    },
    {
      "cell_type": "code",
      "metadata": {
        "id": "id-qatxAEDdb"
      },
      "source": [
        "class CombinedDataset(Dataset):\n",
        "    def __init__(self,data,vectorizer_body=None,vectorizer_head=None,bert=None,binary=True,tfidf=True):\n",
        "        self.tfidf = tfidf\n",
        "        self.bert = bert\n",
        "        self.data = data\n",
        "\n",
        "        if self.bert:\n",
        "            self.bodies = self.data.articleBody.apply(custom_tokenizer)\n",
        "            self.headlines = self.data.Headline.apply(custom_tokenizer)\n",
        "            self.tfidf=False\n",
        "        else:\n",
        "            self.bodies = self.data.articleBody\n",
        "            self.headlines = self.data.Headline \n",
        "\n",
        "        if self.tfidf:\n",
        "            self.vectorizer_body = vectorizer_body\n",
        "            self.vectorizer_head = vectorizer_head \n",
        "            \n",
        "        \n",
        "        \n",
        "        self.stances = self.data.Stance \n",
        "        if binary:\n",
        "            binary_dict = {'unrelated':0, 'discuss':1, 'agree':1, 'disagree':1}\n",
        "            self.stances = self.stances.map(binary_dict)\n",
        "        else:\n",
        "            multiple_dict = {'unrelated':0, 'discuss':1, 'agree':2, 'disagree':3}\n",
        "            self.stances = self.stances.map(multiple_dict)\n",
        "\n",
        "    def __len__(self):\n",
        "        return len(self.data)\n",
        "    def __getitem__(self,idx):\n",
        "        body = self.bodies[idx:idx+1]\n",
        "        headline = self.headlines[idx:idx+1]\n",
        "        stance = self.stances.iloc[idx]\n",
        "        stance = torch.tensor(stance).to(device)\n",
        "\n",
        "        if self.tfidf:\n",
        "            body = self.vectorizer_body.transform(body)\n",
        "            headline = self.vectorizer_head.transform(headline)\n",
        "            stacked = hstack([body,headline])\n",
        "            stacked_tesnor = torch.tensor(scipy.sparse.csr_matrix.todense(stacked)).float().squeeze_().to(device)\n",
        "            return stacked_tesnor,stance\n",
        "        else:\n",
        "            pass\n",
        "\n",
        "        return body,headline,stance\n",
        "\n",
        "\n",
        "train_dataset = CombinedDataset(train_data,tfidfVect_body,tfidfVect_head)\n",
        "test_dataset = CombinedDataset(test_data,tfidfVect_body,tfidfVect_head)\n",
        "validation_dataset = CombinedDataset(validation_data,tfidfVect_body,tfidfVect_head)"
      ],
      "execution_count": null,
      "outputs": []
    },
    {
      "cell_type": "code",
      "metadata": {
        "id": "Pl2QyGvMGz3I"
      },
      "source": [
        "train_loader = DataLoader(train_dataset,batch_size=64,shuffle=True)\n",
        "test_loader = DataLoader(test_dataset,batch_size=64,shuffle=True)\n",
        "validation_loader = DataLoader(validation_dataset,batch_size=64,shuffle=True)"
      ],
      "execution_count": null,
      "outputs": []
    },
    {
      "cell_type": "markdown",
      "metadata": {
        "id": "iMxymE7BGwH3"
      },
      "source": [
        "model"
      ]
    },
    {
      "cell_type": "code",
      "metadata": {
        "id": "SBEaDRU1Gxwf"
      },
      "source": [
        "class BinaryStanceClassifier(nn.Module):\n",
        "    def __init__(self,input_dim,output_dim,layer1_dim,layer2_dim):\n",
        "        super(BinaryStanceClassifier, self).__init__()\n",
        "        # self.classify = nn.Sequential(\n",
        "        self.conv1 = nn.Sequential(nn.Conv1d(in_channels=input_dim,out_channels=layer1_dim,kernel_size=1),\n",
        "        nn.ReLU(),\n",
        "        nn.Dropout(0.2))\n",
        "        self.conv2 = nn.Sequential(\n",
        "        nn.Conv1d(in_channels=layer1_dim,out_channels=layer2_dim,kernel_size=1),\n",
        "        nn.ReLU(),\n",
        "        nn.Dropout(0.2))\n",
        "        self.fc= nn.Linear(layer2_dim,output_dim)\n",
        "        # )\n",
        "    def forward(self,x):\n",
        "        x = self.conv1(x)\n",
        "        x = self.conv2(x)\n",
        "        x.squeeze_()\n",
        "        x = self.fc(x)\n",
        "        return x\n",
        "\n",
        "model = BinaryStanceClassifier(combined_tfidf_train.shape[1],2,500,64).to(device)\n",
        "\n",
        "criterion = nn.BCEWithLogitsLoss().to(device)\n",
        "max_epochs=10\n",
        "optimizer = optim.Adam(model.parameters(), lr=0.002)\n"
      ],
      "execution_count": null,
      "outputs": []
    },
    {
      "cell_type": "code",
      "metadata": {
        "id": "P0-9zkTXlW-J"
      },
      "source": [
        "train_losses = []\n",
        "test_losses = []\n",
        "validation_losses = []\n",
        "train_iterator = cycle(train_loader)"
      ],
      "execution_count": null,
      "outputs": []
    },
    {
      "cell_type": "markdown",
      "metadata": {
        "id": "T5ZfG11aG4tF"
      },
      "source": [
        "training"
      ]
    },
    {
      "cell_type": "code",
      "metadata": {
        "colab": {
          "base_uri": "https://localhost:8080/"
        },
        "id": "TTBcebi5G3Gu",
        "outputId": "999c635d-26f2-4ed8-bc35-0eabdacd4d2b"
      },
      "source": [
        "for e in range(max_epochs):\n",
        "    temp=[]\n",
        "    # for features,stances in train_loader:  \n",
        "    for _ in range(200):  \n",
        "        features,stances = next(train_iterator)\n",
        "\n",
        "        optimizer.zero_grad()\n",
        "        features.unsqueeze_(2)\n",
        "        stance_prediction = model(features)\n",
        "        loss = criterion(stance_prediction, stances)\n",
        "        loss.backward()\n",
        "        train_loss = loss.item()\n",
        "        temp.append(train_loss)\n",
        "        optimizer.step()\n",
        "    train_losses.append(sum(temp)/len(temp))\n",
        "\n",
        "    model.eval()\n",
        "    temp=[]\n",
        "    with torch.no_grad():\n",
        "        # features,stances = next(validation_iterator)\n",
        "        for features,stances in validation_loader:\n",
        "            features.unsqueeze_(2)\n",
        "            stance_prediction = model(features)\n",
        "            val_loss = criterion(stance_prediction, stances)\n",
        "            temp.append(val_loss.item())\n",
        "    validation_losses.append(sum(temp)/len(temp))\n",
        "    print(f\"Epoch: {e+1}/{max_epochs}.. \",\n",
        "          f\"Training Loss: {train_losses[-1]:.4f}.. \",\n",
        "          f\"Validation Loss: {validation_losses[-1]:.4f}.. \")\n"
      ],
      "execution_count": null,
      "outputs": [
        {
          "output_type": "stream",
          "text": [
            "Epoch: 1/15..  Training Loss: 0.0080..  Validation Loss: 0.0233.. \n",
            "Epoch: 2/15..  Training Loss: 0.0079..  Validation Loss: 0.0259.. \n",
            "Epoch: 3/15..  Training Loss: 0.0056..  Validation Loss: 0.0225.. \n",
            "Epoch: 4/15..  Training Loss: 0.0034..  Validation Loss: 0.0209.. \n",
            "Epoch: 5/15..  Training Loss: 0.0034..  Validation Loss: 0.0217.. \n",
            "Epoch: 6/15..  Training Loss: 0.0038..  Validation Loss: 0.0246.. \n",
            "Epoch: 7/15..  Training Loss: 0.0029..  Validation Loss: 0.0205.. \n",
            "Epoch: 8/15..  Training Loss: 0.0028..  Validation Loss: 0.0232.. \n",
            "Epoch: 9/15..  Training Loss: 0.0036..  Validation Loss: 0.0239.. \n",
            "Epoch: 10/15..  Training Loss: 0.0013..  Validation Loss: 0.0236.. \n",
            "Epoch: 11/15..  Training Loss: 0.0015..  Validation Loss: 0.0240.. \n",
            "Epoch: 12/15..  Training Loss: 0.0020..  Validation Loss: 0.0217.. \n",
            "Epoch: 13/15..  Training Loss: 0.0002..  Validation Loss: 0.0253.. \n",
            "Epoch: 14/15..  Training Loss: 0.0031..  Validation Loss: 0.0244.. \n",
            "Epoch: 15/15..  Training Loss: 0.0037..  Validation Loss: 0.0230.. \n"
          ],
          "name": "stdout"
        }
      ]
    },
    {
      "cell_type": "code",
      "metadata": {
        "colab": {
          "base_uri": "https://localhost:8080/",
          "height": 295
        },
        "id": "1C1yt7N1G-Sa",
        "outputId": "58cd9344-ccd6-40a1-bc44-368edd9cdf87"
      },
      "source": [
        "l1 = plt.plot(train_losses,label=\"Train Loss\")\n",
        "l2 = plt.plot(validation_losses, label=\"Validation Loss\")\n",
        "plt.title(\"CNN Train and Validation Loss with TF-IDF\")\n",
        "plt.ylabel(\"Loss\")\n",
        "plt.xlabel(\"Epoch\")\n",
        "plt.legend()\n",
        "plt.xticks([0,1,2,3,4,5,6,7,8,9,10])\n",
        "plt.savefig(\"/content/drive/MyDrive/FakeNewsData/Outputs/CNN_TFIDF.png\")"
      ],
      "execution_count": null,
      "outputs": [
        {
          "output_type": "display_data",
          "data": {
            "image/png": "[encoded data removed]",
            "text/plain": [
              "<Figure size 432x288 with 1 Axes>"
            ]
          },
          "metadata": {
            "tags": []
          }
        }
      ]
    },
    {
      "cell_type": "code",
      "metadata": {
        "id": "vulK8Pnqr_V4"
      },
      "source": [
        "torch.save(model.state_dict(), \"/content/drive/MyDrive/FakeNewsData/DeepLWeights/tfidfDL\")"
      ],
      "execution_count": null,
      "outputs": []
    },
    {
      "cell_type": "code",
      "metadata": {
        "colab": {
          "base_uri": "https://localhost:8080/",
          "height": 458
        },
        "id": "D1teV_QuHQY7",
        "outputId": "33b1650d-a7a1-4358-9a35-25169b4ae588"
      },
      "source": [
        "def test_model(model,test_loader):\n",
        "    model.eval()\n",
        "    y_true = []\n",
        "    y_pred=[]\n",
        "    with torch.no_grad():\n",
        "        for features,stances in test_loader:\n",
        "            features.unsqueeze_(2)\n",
        "            probabilities = model(features)\n",
        "            probabilities = probabilities.detach().cpu().numpy()\n",
        "            predictions = np.argmax(probabilities, axis=1)\n",
        "\n",
        "            y_true.extend(stances.cpu().numpy())\n",
        "            y_pred.extend(predictions)\n",
        "    print(metrics.classification_report(y_true,y_pred))\n",
        "    disp=metrics.ConfusionMatrixDisplay(metrics.confusion_matrix(y_true,y_pred,normalize=None),display_labels=[\"unrelated\",\"related\"])\n",
        "    disp.plot(cmap=plt.cm.Blues,values_format=\"\")\n",
        "    plt.title('Confusion matrix of {}'.format(\"CNN_TFIDF\"))\n",
        "    plt.savefig(\"/content/drive/MyDrive/FakeNewsData/Outputs/{}_Matrix.png\".format(\"CNN_TFIDF\"))\n",
        "test_model(model,test_loader)"
      ],
      "execution_count": null,
      "outputs": [
        {
          "output_type": "stream",
          "text": [
            "              precision    recall  f1-score   support\n",
            "\n",
            "           0       0.95      0.36      0.52     18349\n",
            "           1       0.36      0.96      0.53      7064\n",
            "\n",
            "    accuracy                           0.52     25413\n",
            "   macro avg       0.66      0.66      0.52     25413\n",
            "weighted avg       0.79      0.52      0.52     25413\n",
            "\n"
          ],
          "name": "stdout"
        },
        {
          "output_type": "display_data",
          "data": {
            "image/png": "[encoded data removed]",
            "text/plain": [
              "<Figure size 432x288 with 2 Axes>"
            ]
          },
          "metadata": {
            "tags": []
          }
        }
      ]
    },
    {
      "cell_type": "markdown",
      "metadata": {
        "id": "sIstGynSANlU"
      },
      "source": [
        "# BERT Transformer"
      ]
    },
    {
      "cell_type": "markdown",
      "metadata": {
        "id": "ZDxwdXDnAqiJ"
      },
      "source": [
        "import the bert model"
      ]
    },
    {
      "cell_type": "code",
      "metadata": {
        "colab": {
          "base_uri": "https://localhost:8080/",
          "height": 333,
          "referenced_widgets": [
            "057289a759334f46ace3708f3e41c230",
            "f643192688fb4e9891940d699630c502",
            "8501da0a50f34f4cbb94fe35439ff4f8",
            "4a561364412f4310b16b7f7a65011c51",
            "6ccdf1d20bbe4efbbbc2404abe10df4a",
            "4b719ac2968d4a55acbf856caf10d775",
            "a20c56c8a3d44ef1a1a1b00d4ebc8bfd",
            "493a17d064d448b0bec55576efcaa880",
            "dc0b0b857e3841278e4e872557062ce6",
            "b3723ddcedf9449ba4409385d0f1b030",
            "f4d78ea88a6346c79e22398d2b9fa57d",
            "6c74a9fca55b40e9a7458b5128455c47",
            "f567066466484d738419dcafb348a9d2",
            "5b26975195de42fd978749470a1ffe33",
            "90155357c4d049b38629d99460f7950a",
            "e81e37b33ee74972919e4aa30cdb771f",
            "718fb300aa2b48afb54889d2c4a84120",
            "b5d1d68191704496bd1c8f0b30b97f88",
            "f332e262dfcc42ec8b57f360e5029b42",
            "9a2872dcbb9846d39fd105f59169b56b",
            "f4b9ed43412f409387f2cd86dca2ab9c",
            "8e9455f86df84b409147eab52bbbeebf",
            "804435b02f02451ca498b825a5242db8",
            "bf3e1cf87ca84aba9438bfb24212792c",
            "30fb128e2c9d4e12af3b5d7d09d0e34d",
            "b0b36bff303c4ce9b3b6d38a24f52ae5",
            "d33bca3d79ad404e890f0d4a72ffd9ed",
            "4b47340fa7a849c69e0a86f364c0e087",
            "f0beb3920c7d4a42bf3dcca2f9634491",
            "0b183f14fd314d4486761c49be190b5d",
            "0b8b706660b74ed4912ad9b3f045b010",
            "b16c0215860f4ce7ab4e283aa8c86b2a",
            "5eff302ee0a146f48f03a6062e852a82",
            "d8fdd6a6fd604dd7b1dde6113b928149",
            "b869bc8af7994f118fe53dc7dfa3fcf3",
            "9bcb85c57d104060adc76bb9a36bbc28",
            "d12547033cba4017872913f805137432",
            "c51ec0be6635441eab3c61c585f5f468",
            "3a29e4b1092f4e9f9000dc69411a82df",
            "fe1b1bce585d437fa65443c667ff0f16"
          ]
        },
        "id": "DRnZZoU6AQxi",
        "outputId": "e1ec937b-dbfd-48e2-e6da-1c664ab1e063"
      },
      "source": [
        "from transformers import BertModel, BertConfig, BertTokenizer, Trainer,TrainingArguments,BertForSequenceClassification\n",
        "tokenizer = BertTokenizer.from_pretrained('bert-base-uncased')\n",
        "bert_model = BertModel.from_pretrained('bert-base-uncased').to(device)\n",
        "max_input_length = tokenizer.max_model_input_sizes['bert-base-uncased'] #512"
      ],
      "execution_count": null,
      "outputs": [
        {
          "output_type": "display_data",
          "data": {
            "application/vnd.jupyter.widget-view+json": {
              "model_id": "057289a759334f46ace3708f3e41c230",
              "version_minor": 0,
              "version_major": 2
            },
            "text/plain": [
              "HBox(children=(FloatProgress(value=0.0, description='Downloading', max=231508.0, style=ProgressStyle(descripti…"
            ]
          },
          "metadata": {
            "tags": []
          }
        },
        {
          "output_type": "stream",
          "text": [
            "\n"
          ],
          "name": "stdout"
        },
        {
          "output_type": "display_data",
          "data": {
            "application/vnd.jupyter.widget-view+json": {
              "model_id": "dc0b0b857e3841278e4e872557062ce6",
              "version_minor": 0,
              "version_major": 2
            },
            "text/plain": [
              "HBox(children=(FloatProgress(value=0.0, description='Downloading', max=28.0, style=ProgressStyle(description_w…"
            ]
          },
          "metadata": {
            "tags": []
          }
        },
        {
          "output_type": "stream",
          "text": [
            "\n"
          ],
          "name": "stdout"
        },
        {
          "output_type": "display_data",
          "data": {
            "application/vnd.jupyter.widget-view+json": {
              "model_id": "718fb300aa2b48afb54889d2c4a84120",
              "version_minor": 0,
              "version_major": 2
            },
            "text/plain": [
              "HBox(children=(FloatProgress(value=0.0, description='Downloading', max=466062.0, style=ProgressStyle(descripti…"
            ]
          },
          "metadata": {
            "tags": []
          }
        },
        {
          "output_type": "stream",
          "text": [
            "\n"
          ],
          "name": "stdout"
        },
        {
          "output_type": "display_data",
          "data": {
            "application/vnd.jupyter.widget-view+json": {
              "model_id": "30fb128e2c9d4e12af3b5d7d09d0e34d",
              "version_minor": 0,
              "version_major": 2
            },
            "text/plain": [
              "HBox(children=(FloatProgress(value=0.0, description='Downloading', max=570.0, style=ProgressStyle(description_…"
            ]
          },
          "metadata": {
            "tags": []
          }
        },
        {
          "output_type": "stream",
          "text": [
            "\n"
          ],
          "name": "stdout"
        },
        {
          "output_type": "display_data",
          "data": {
            "application/vnd.jupyter.widget-view+json": {
              "model_id": "5eff302ee0a146f48f03a6062e852a82",
              "version_minor": 0,
              "version_major": 2
            },
            "text/plain": [
              "HBox(children=(FloatProgress(value=0.0, description='Downloading', max=440473133.0, style=ProgressStyle(descri…"
            ]
          },
          "metadata": {
            "tags": []
          }
        },
        {
          "output_type": "stream",
          "text": [
            "\n"
          ],
          "name": "stdout"
        },
        {
          "output_type": "stream",
          "text": [
            "Some weights of the model checkpoint at bert-base-uncased were not used when initializing BertModel: ['cls.predictions.bias', 'cls.predictions.transform.LayerNorm.weight', 'cls.predictions.decoder.weight', 'cls.predictions.transform.dense.bias', 'cls.seq_relationship.bias', 'cls.predictions.transform.LayerNorm.bias', 'cls.seq_relationship.weight', 'cls.predictions.transform.dense.weight']\n",
            "- This IS expected if you are initializing BertModel from the checkpoint of a model trained on another task or with another architecture (e.g. initializing a BertForSequenceClassification model from a BertForPreTraining model).\n",
            "- This IS NOT expected if you are initializing BertModel from the checkpoint of a model that you expect to be exactly identical (initializing a BertForSequenceClassification model from a BertForSequenceClassification model).\n"
          ],
          "name": "stderr"
        }
      ]
    },
    {
      "cell_type": "code",
      "metadata": {
        "id": "1FvR_X36YaMf"
      },
      "source": [
        "train_labels = train_data[\"Stance\"]\n",
        "test_labels = test_data[\"Stance\"]\n",
        "validation_labels = validation_data[\"Stance\"]"
      ],
      "execution_count": null,
      "outputs": []
    },
    {
      "cell_type": "markdown",
      "metadata": {
        "id": "CquzQ2zSAso3"
      },
      "source": [
        "tokenize the training and testing data"
      ]
    },
    {
      "cell_type": "code",
      "metadata": {
        "id": "mAtGRe2EiaR1"
      },
      "source": [
        "def tokenizeData(data):\n",
        "    bodies = list(data.articleBody.values)\n",
        "    headlines = list(data.Headline.values)\n",
        "    tok = tokenizer(bodies,headlines,return_tensors=\"pt\",truncation=True,padding=\"max_length\")\n",
        "    # tok_headlines = tokenizer(headlines,truncation=True,paddint=\"max_length\")\n",
        "    return tok\n",
        "def getEmbeddings(data,numpy=True,output=\"pooler_output\"):\n",
        "    embeddingsList=[]\n",
        "    x=2\n",
        "    with torch.no_grad():\n",
        "        for i in tqdm(range(0,len(data[\"input_ids\"]),x)):\n",
        "            embeddings = bert_model(data[\"input_ids\"][i:i+x].to(device),data[\"attention_mask\"][i:i+x].to(device),data[\"token_type_ids\"][i:i+x].to(device))[output]\n",
        "            embeddingsList.extend(embeddings.squeeze_().squeeze_())\n",
        "    if numpy:\n",
        "        embed_np = [x.cpu().numpy() for x in embeddingsList]\n",
        "        return embeddingsList,embed_np\n",
        "    else:\n",
        "        return embeddingsList\n",
        "def pytorchToNumpy(tensors):\n",
        "    embed_np = [x.cpu().numpy() for x in tensors]\n",
        "    return embed_np"
      ],
      "execution_count": null,
      "outputs": []
    },
    {
      "cell_type": "code",
      "metadata": {
        "id": "aQb55pzSJcKw"
      },
      "source": [
        "train_bert = tokenizeData(train_data)\n",
        "validation_bert = tokenizeData(validation_data)\n",
        "test_bert = tokenizeData(test_data)\n",
        "#input_ids, attnetion_mask, token_type_ids"
      ],
      "execution_count": null,
      "outputs": []
    },
    {
      "cell_type": "code",
      "metadata": {
        "id": "ZXJ9GLRncVl6"
      },
      "source": [
        "save(train_bert,\"train_bert_tokens\")\n",
        "save(validation_bert,\"validation_bert_tokens\")\n",
        "save(test_bert,\"test_bert_tokens\")"
      ],
      "execution_count": null,
      "outputs": []
    },
    {
      "cell_type": "code",
      "metadata": {
        "id": "3eu2R9oDUc7A"
      },
      "source": [
        "train_bert = load(\"train_bert_tokens\")\n",
        "validation_bert = load(\"validation_bert_tokens\")\n",
        "test_bert = load(\"test_bert_tokens\")"
      ],
      "execution_count": null,
      "outputs": []
    },
    {
      "cell_type": "code",
      "metadata": {
        "id": "wURSCkx55TuM"
      },
      "source": [
        "train_embed_pt, train_embed_np = getEmbeddings(train_bert)\n",
        "test_embed_pt, test_embed_np = getEmbeddings(test_bert)\n",
        "validation_embed_pt, valistaion_embed_np = getEmbeddings(validation_bert)"
      ],
      "execution_count": null,
      "outputs": []
    },
    {
      "cell_type": "code",
      "metadata": {
        "id": "RDYjqTOU7jW4"
      },
      "source": [
        "save(train_embed_pt,\"train_embed_pt\")\n",
        "save(test_embed_pt,\"test_embed_pt\")\n",
        "save(validation_embed_pt,\"validation_embed_pt\")"
      ],
      "execution_count": null,
      "outputs": []
    },
    {
      "cell_type": "code",
      "metadata": {
        "id": "RQeyef5o7t4q"
      },
      "source": [
        "train_embed_pt = load(\"train_embed_pt\")\n",
        "test_embed_pt = load(\"test_embed_pt\")\n",
        "validation_embed_pt = load(\"validation_embed_pt\")"
      ],
      "execution_count": null,
      "outputs": []
    },
    {
      "cell_type": "markdown",
      "metadata": {
        "id": "TaVYLeTs6yeR"
      },
      "source": [
        "convert to numpy to pass to sklearn"
      ]
    },
    {
      "cell_type": "code",
      "metadata": {
        "id": "f4v8Jwcc6KMd"
      },
      "source": [
        "train_embed_np = pytorchToNumpy(train_embed_pt)\n",
        "test_embed_np = pytorchToNumpy(test_embed_pt) \n",
        "validation_embed_np = pytorchToNumpy(validation_embed_pt) "
      ],
      "execution_count": null,
      "outputs": []
    },
    {
      "cell_type": "markdown",
      "metadata": {
        "id": "IMKvTcjlYYFv"
      },
      "source": [
        "# Train ML and DL Methods"
      ]
    },
    {
      "cell_type": "code",
      "metadata": {
        "colab": {
          "base_uri": "https://localhost:8080/"
        },
        "id": "6WOGxjeLZVT7",
        "outputId": "4eb72a08-45f8-45fb-c239-a5b32d0ec8fa"
      },
      "source": [
        "rf_classifier = RandomForestClassifier(n_estimators=10)\n",
        "rf_classifier.fit(train_embed_np, list(train_binary_stance.values))"
      ],
      "execution_count": null,
      "outputs": [
        {
          "output_type": "execute_result",
          "data": {
            "text/plain": [
              "RandomForestClassifier(bootstrap=True, ccp_alpha=0.0, class_weight=None,\n",
              "                       criterion='gini', max_depth=None, max_features='auto',\n",
              "                       max_leaf_nodes=None, max_samples=None,\n",
              "                       min_impurity_decrease=0.0, min_impurity_split=None,\n",
              "                       min_samples_leaf=1, min_samples_split=2,\n",
              "                       min_weight_fraction_leaf=0.0, n_estimators=10,\n",
              "                       n_jobs=None, oob_score=False, random_state=None,\n",
              "                       verbose=0, warm_start=False)"
            ]
          },
          "metadata": {
            "tags": []
          },
          "execution_count": 221
        }
      ]
    },
    {
      "cell_type": "code",
      "metadata": {
        "colab": {
          "base_uri": "https://localhost:8080/"
        },
        "id": "UfspA-G3g8D9",
        "outputId": "7fd80361-e01b-4d75-db3f-e3445b5025df"
      },
      "source": [
        "svm = SVC()\n",
        "svm.fit(train_embed_np,list(train_binary_stance.values))"
      ],
      "execution_count": null,
      "outputs": [
        {
          "output_type": "execute_result",
          "data": {
            "text/plain": [
              "SVC(C=1.0, break_ties=False, cache_size=200, class_weight=None, coef0=0.0,\n",
              "    decision_function_shape='ovr', degree=3, gamma='scale', kernel='rbf',\n",
              "    max_iter=-1, probability=False, random_state=None, shrinking=True,\n",
              "    tol=0.001, verbose=False)"
            ]
          },
          "metadata": {
            "tags": []
          },
          "execution_count": 225
        }
      ]
    },
    {
      "cell_type": "code",
      "metadata": {
        "colab": {
          "base_uri": "https://localhost:8080/"
        },
        "id": "s1kVFMPYeoEy",
        "outputId": "e63f0347-7d8d-43bf-f235-ab0661b1d68c"
      },
      "source": [
        "mlp = MLPClassifier(hidden_layer_sizes=[768,512,256,128,64],learning_rate=\"adaptive\",max_iter=600)\n",
        "mlp.fit(train_embed_np,list(train_binary_stance.values))"
      ],
      "execution_count": null,
      "outputs": [
        {
          "output_type": "execute_result",
          "data": {
            "text/plain": [
              "MLPClassifier(activation='relu', alpha=0.0001, batch_size='auto', beta_1=0.9,\n",
              "              beta_2=0.999, early_stopping=False, epsilon=1e-08,\n",
              "              hidden_layer_sizes=[768, 512, 256, 128, 64],\n",
              "              learning_rate='adaptive', learning_rate_init=0.001, max_fun=15000,\n",
              "              max_iter=600, momentum=0.9, n_iter_no_change=10,\n",
              "              nesterovs_momentum=True, power_t=0.5, random_state=None,\n",
              "              shuffle=True, solver='adam', tol=0.0001, validation_fraction=0.1,\n",
              "              verbose=False, warm_start=False)"
            ]
          },
          "metadata": {
            "tags": []
          },
          "execution_count": 17
        }
      ]
    },
    {
      "cell_type": "code",
      "metadata": {
        "id": "QrHMDEkoruxG"
      },
      "source": [
        "save(mlp,\"mlp_bert\")\n",
        "save(svm,\"svm_bert\")\n",
        "save(rf_classifier,\"rf_bert\")"
      ],
      "execution_count": null,
      "outputs": []
    },
    {
      "cell_type": "code",
      "metadata": {
        "id": "Mpz42e5UaKaq"
      },
      "source": [
        "def plot_results_bert(classifier,name,test_data,target):\n",
        "    y_true =  target\n",
        "    y_data = test_data\n",
        "    y_pred = classifier.predict(y_data)\n",
        "    disp=metrics.ConfusionMatrixDisplay(metrics.confusion_matrix(y_true,y_pred,normalize=None),display_labels=classifier.classes_)\n",
        "    disp.plot(cmap=plt.cm.Blues,values_format=\"\")\n",
        "    plt.title('Confusion matrix of {}'.format(name))\n",
        "    plt.savefig(\"/content/drive/MyDrive/FakeNewsData/Outputs/{}_Matrix.png\".format(name))\n",
        "    print(metrics.classification_report(y_true,y_pred))"
      ],
      "execution_count": null,
      "outputs": []
    },
    {
      "cell_type": "markdown",
      "metadata": {
        "id": "zWsWZnlGC5_H"
      },
      "source": [
        "# BERT Machine Learning Results"
      ]
    },
    {
      "cell_type": "code",
      "metadata": {
        "colab": {
          "base_uri": "https://localhost:8080/"
        },
        "id": "aPolhaqRCjTx",
        "outputId": "2c3039dc-df22-4d04-a865-444fda2c769f"
      },
      "source": [
        "plot_results_bert(rf_classifier,\"RandomForest_BERT\")"
      ],
      "execution_count": null,
      "outputs": [
        {
          "output_type": "stream",
          "text": [
            "              precision    recall  f1-score   support\n",
            "\n",
            "     related       0.96      0.96      0.96      7064\n",
            "   unrelated       0.98      0.98      0.98     18349\n",
            "\n",
            "    accuracy                           0.98     25413\n",
            "   macro avg       0.97      0.97      0.97     25413\n",
            "weighted avg       0.98      0.98      0.98     25413\n",
            "\n"
          ],
          "name": "stdout"
        },
        {
          "output_type": "display_data",
          "data": {
            "image/png": "[encoded data removed]",
            "text/plain": [
              "<Figure size 432x288 with 2 Axes>"
            ]
          },
          "metadata": {
            "tags": []
          }
        }
      ]
    },
    {
      "cell_type": "code",
      "metadata": {
        "colab": {
          "base_uri": "https://localhost:8080/"
        },
        "id": "RMVKqRPwCu88",
        "outputId": "5eee7d78-9fdf-447a-c724-efcaa6c27610"
      },
      "source": [
        "plot_results_bert(svm,\"SVM_BERT\")"
      ],
      "execution_count": null,
      "outputs": [
        {
          "output_type": "stream",
          "text": [
            "              precision    recall  f1-score   support\n",
            "\n",
            "     related       0.95      0.96      0.96      7064\n",
            "   unrelated       0.98      0.98      0.98     18349\n",
            "\n",
            "    accuracy                           0.98     25413\n",
            "   macro avg       0.97      0.97      0.97     25413\n",
            "weighted avg       0.98      0.98      0.98     25413\n",
            "\n"
          ],
          "name": "stdout"
        },
        {
          "output_type": "display_data",
          "data": {
            "image/png": "[encoded data removed]",
            "text/plain": [
              "<Figure size 432x288 with 2 Axes>"
            ]
          },
          "metadata": {
            "tags": []
          }
        }
      ]
    },
    {
      "cell_type": "code",
      "metadata": {
        "colab": {
          "base_uri": "https://localhost:8080/",
          "height": 448
        },
        "id": "--XSLdRBCq0z",
        "outputId": "257e51a5-77df-427f-e0dc-5e279bc28235"
      },
      "source": [
        "plot_results_bert(mlp,\"MLP_BERT\",test_embed_np,list(test_binary_stance.values))"
      ],
      "execution_count": null,
      "outputs": [
        {
          "output_type": "stream",
          "text": [
            "              precision    recall  f1-score   support\n",
            "\n",
            "     related       0.96      0.97      0.97      7064\n",
            "   unrelated       0.99      0.98      0.99     18349\n",
            "\n",
            "    accuracy                           0.98     25413\n",
            "   macro avg       0.97      0.98      0.98     25413\n",
            "weighted avg       0.98      0.98      0.98     25413\n",
            "\n"
          ],
          "name": "stdout"
        },
        {
          "output_type": "display_data",
          "data": {
            "image/png": "[encoded data removed]",
            "text/plain": [
              "<Figure size 432x288 with 2 Axes>"
            ]
          },
          "metadata": {
            "tags": [],
            "needs_background": "light"
          }
        }
      ]
    },
    {
      "cell_type": "markdown",
      "metadata": {
        "id": "GpLahk3b90R8"
      },
      "source": [
        "# Dataset used for BERT model encoding"
      ]
    },
    {
      "cell_type": "code",
      "metadata": {
        "id": "UwUz5vrNV7-H"
      },
      "source": [
        "class BERT_Data(Dataset):\n",
        "    def __init__(self,data,target,binary=True):\n",
        "        self.stances = target\n",
        "        self.data = data\n",
        "        if binary:\n",
        "            binary_dict = {'unrelated':0, 'discuss':1, 'agree':1, 'disagree':1}\n",
        "            self.stances = self.stances.map(binary_dict)\n",
        "        else:\n",
        "            multiple_dict = {'unrelated':0, 'discuss':1, 'agree':2, 'disagree':3}\n",
        "            self.stances = self.stances.map(multiple_dict)\n",
        "        self.stances = list(self.stances.values)\n",
        "    def __len__(self):\n",
        "        return len(self.data)\n",
        "    def __getitem__(self,idx):\n",
        "        x = self.data[idx]\n",
        "        x = x.to(device)\n",
        "        stance = float(self.stances[idx])\n",
        "        stance = torch.tensor(stance).to(device)\n",
        "\n",
        "        return x,stance\n",
        "\n",
        "train_dataset_bert = BERT_Data(train_embed_pt,train_labels)\n",
        "test_dataset_bert = BERT_Data(test_embed_pt,test_labels)\n",
        "validation_dataset_bert = BERT_Data(validation_embed_pt,train_labels)\n",
        "\n",
        "train_loader_bert = DataLoader(train_dataset_bert,batch_size=64,shuffle=True)\n",
        "test_loader_bert = DataLoader(test_dataset_bert,batch_size=64,shuffle=True)\n",
        "validation_loader_bert = DataLoader(validation_dataset_bert,batch_size=64,shuffle=True)"
      ],
      "execution_count": null,
      "outputs": []
    },
    {
      "cell_type": "code",
      "metadata": {
        "colab": {
          "base_uri": "https://localhost:8080/"
        },
        "id": "NMH3igPgKRMu",
        "outputId": "a6f37dad-86ad-465a-a41f-12002ef70418"
      },
      "source": [
        "class BinaryBert(nn.Module):\n",
        "    def __init__(self,input_dim):\n",
        "        super(BinaryBert, self).__init__()\n",
        "        # self.classify = nn.Sequential(\n",
        "        self.conv1 = nn.Sequential(nn.Conv1d(in_channels=input_dim,out_channels=512,kernel_size=1,stride=2),\n",
        "        nn.ReLU(),\n",
        "        nn.Dropout(0.2))\n",
        "        self.conv2 = nn.Sequential(\n",
        "        nn.Conv1d(in_channels=512,out_channels=256,kernel_size=1,stride=2),\n",
        "        nn.ReLU(),\n",
        "        nn.Dropout(0.2))\n",
        "        self.conv3 = nn.Sequential(\n",
        "        nn.Conv1d(in_channels=256,out_channels=128,kernel_size=1),\n",
        "        nn.ReLU(),\n",
        "        nn.Dropout(0.2))\n",
        "        self.fc= nn.Linear(128,1)\n",
        "        self.relu = nn.LeakyReLU()\n",
        "\n",
        "        \n",
        "        self.sigmoid = nn.Sigmoid()\n",
        "    def forward(self,x):\n",
        "        x = self.conv1(x)\n",
        "        x = self.conv2(x)\n",
        "        x = self.conv3(x)\n",
        "\n",
        "        x = x.squeeze()\n",
        "        x = self.fc(x)\n",
        "        x = self.sigmoid(x)\n",
        "        return x\n",
        "\n",
        "\n",
        "bert_output_size = 768\n",
        "cnnBert = BinaryBert(bert_output_size).to(device)\n",
        "criterion = nn.BCELoss().to(device)\n",
        "max_epochs=10\n",
        "optimizer = optim.Adam(cnnBert.parameters(), lr=0.0002)\n",
        "summary(cnnBert,(768,1))"
      ],
      "execution_count": null,
      "outputs": [
        {
          "output_type": "stream",
          "text": [
            "----------------------------------------------------------------\n",
            "        Layer (type)               Output Shape         Param #\n",
            "================================================================\n",
            "            Conv1d-1               [-1, 512, 1]         393,728\n",
            "              ReLU-2               [-1, 512, 1]               0\n",
            "           Dropout-3               [-1, 512, 1]               0\n",
            "            Conv1d-4               [-1, 256, 1]         131,328\n",
            "              ReLU-5               [-1, 256, 1]               0\n",
            "           Dropout-6               [-1, 256, 1]               0\n",
            "            Conv1d-7               [-1, 128, 1]          32,896\n",
            "              ReLU-8               [-1, 128, 1]               0\n",
            "           Dropout-9               [-1, 128, 1]               0\n",
            "           Linear-10                    [-1, 1]             129\n",
            "          Sigmoid-11                    [-1, 1]               0\n",
            "================================================================\n",
            "Total params: 558,081\n",
            "Trainable params: 558,081\n",
            "Non-trainable params: 0\n",
            "----------------------------------------------------------------\n",
            "Input size (MB): 0.00\n",
            "Forward/backward pass size (MB): 0.02\n",
            "Params size (MB): 2.13\n",
            "Estimated Total Size (MB): 2.15\n",
            "----------------------------------------------------------------\n"
          ],
          "name": "stdout"
        }
      ]
    },
    {
      "cell_type": "code",
      "metadata": {
        "id": "za0g6uvWrTi8"
      },
      "source": [
        "train_iterator_bert = cycle(train_loader_bert)\n",
        "test_iterator_bert = cycle(test_loader_bert)\n",
        "validation_iterator_bert = cycle(validation_loader_bert)"
      ],
      "execution_count": null,
      "outputs": []
    },
    {
      "cell_type": "code",
      "metadata": {
        "colab": {
          "base_uri": "https://localhost:8080/"
        },
        "id": "0m5bVaEnrreL",
        "outputId": "4210091e-ca29-49d8-8020-12b229e0ad3d"
      },
      "source": [
        "train_losses_bert = []\n",
        "validation_losses_bert = []\n",
        "act = nn.Sigmoid()\n",
        "for e in range(max_epochs):\n",
        "    temp=[]\n",
        "    # for features,stances in train_loader:  \n",
        "    for features,stances in train_loader_bert:  \n",
        "    # for features,stances in train_loader_bert:\n",
        "        optimizer.zero_grad()\n",
        "        features = features.unsqueeze(2)\n",
        "        stance_prediction = cnnBert(features)\n",
        "        stance_prediction = stance_prediction.squeeze()\n",
        "        loss = criterion(stance_prediction, stances)\n",
        "        loss.backward()\n",
        "        train_loss = loss.item()\n",
        "        temp.append(train_loss)\n",
        "        optimizer.step()\n",
        "    train_losses_bert.append(sum(temp)/len(temp))\n",
        "\n",
        "    temp=[]\n",
        "    with torch.no_grad():\n",
        "        for _ in range(200):\n",
        "            features,stances = next(validation_iterator_bert)\n",
        "            features = features.unsqueeze(2)\n",
        "            stance_prediction = cnnBert(features)\n",
        "            stance_prediction = stance_prediction.squeeze()\n",
        "            val_loss = criterion(stance_prediction, stances)\n",
        "            temp.append(val_loss.item())\n",
        "    validation_losses_bert.append(sum(temp)/len(temp))\n",
        "    print(f\"Epoch: {e+1}/{max_epochs}.. \",f\"Training Loss: {train_losses_bert[-1]:.4f}.. \",f\"Validation Loss: {validation_losses_bert[-1]:.4f}.. \")\n"
      ],
      "execution_count": null,
      "outputs": [
        {
          "output_type": "stream",
          "text": [
            "Epoch: 1/10..  Training Loss: 0.0825..  Validation Loss: 1.6460.. \n",
            "Epoch: 2/10..  Training Loss: 0.0834..  Validation Loss: 1.7286.. \n",
            "Epoch: 3/10..  Training Loss: 0.0813..  Validation Loss: 1.2411.. \n",
            "Epoch: 4/10..  Training Loss: 0.0804..  Validation Loss: 1.6854.. \n",
            "Epoch: 5/10..  Training Loss: 0.0801..  Validation Loss: 1.5093.. \n",
            "Epoch: 6/10..  Training Loss: 0.0797..  Validation Loss: 1.3201.. \n",
            "Epoch: 7/10..  Training Loss: 0.0796..  Validation Loss: 1.6827.. \n",
            "Epoch: 8/10..  Training Loss: 0.0777..  Validation Loss: 2.1682.. \n",
            "Epoch: 9/10..  Training Loss: 0.0783..  Validation Loss: 1.4584.. \n",
            "Epoch: 10/10..  Training Loss: 0.0773..  Validation Loss: 1.6696.. \n"
          ],
          "name": "stdout"
        }
      ]
    },
    {
      "cell_type": "code",
      "metadata": {
        "colab": {
          "base_uri": "https://localhost:8080/",
          "height": 448
        },
        "id": "752NBE6Dsmrd",
        "outputId": "b89f6f85-3e7d-4ae5-e17d-2fc06f935c06"
      },
      "source": [
        "def test_model(model,test_loader):\n",
        "    model.eval()\n",
        "    y_true = []\n",
        "    y_pred=[]\n",
        "    with torch.no_grad():\n",
        "        for features,stances in test_loader:\n",
        "            features = features.unsqueeze(2)\n",
        "            stance_prediction = cnnBert(features)\n",
        "            probabilities = stance_prediction.squeeze()\n",
        "            probabilities = probabilities.detach().cpu().numpy()\n",
        "            predictions = [round(x) for x in probabilities]\n",
        "            # predictions = np.argmax(probabilities, axis=1)\n",
        "\n",
        "            y_true.extend(stances.cpu().numpy())\n",
        "            y_pred.extend(predictions)\n",
        "\n",
        "    print(metrics.classification_report(y_true,y_pred))\n",
        "    disp=metrics.ConfusionMatrixDisplay(metrics.confusion_matrix(y_true,y_pred,normalize=None),display_labels=[\"unrelated\",\"related\"])\n",
        "    disp.plot(cmap=plt.cm.Blues,values_format=\"\")\n",
        "    plt.title('Confusion matrix of {}'.format(\"CNN_BERT\"))\n",
        "    plt.savefig(\"/content/drive/MyDrive/FakeNewsData/Outputs/{}_Matrix.png\".format(\"CNN_BERT\"))\n",
        "test_model(cnnBert,test_loader_bert)"
      ],
      "execution_count": null,
      "outputs": [
        {
          "output_type": "stream",
          "text": [
            "              precision    recall  f1-score   support\n",
            "\n",
            "         0.0       0.98      0.99      0.98     18349\n",
            "         1.0       0.97      0.93      0.95      7064\n",
            "\n",
            "    accuracy                           0.97     25413\n",
            "   macro avg       0.97      0.96      0.97     25413\n",
            "weighted avg       0.97      0.97      0.97     25413\n",
            "\n"
          ],
          "name": "stdout"
        },
        {
          "output_type": "display_data",
          "data": {
            "image/png": "[encoded data removed]",
            "text/plain": [
              "<Figure size 432x288 with 2 Axes>"
            ]
          },
          "metadata": {
            "tags": [],
            "needs_background": "light"
          }
        }
      ]
    },
    {
      "cell_type": "code",
      "metadata": {
        "colab": {
          "base_uri": "https://localhost:8080/",
          "height": 281
        },
        "id": "fivJuvFArUpG",
        "outputId": "7a33c7e0-97f3-4edf-e303-84cc7b3c1284"
      },
      "source": [
        "#scores based on the confusion matrices generate above\n",
        "import matplotlib.pyplot as plt\n",
        "import numpy as np\n",
        "metrics_labels=[\"accuracy\",\"f1\"]\n",
        "\n",
        "X = np.arange(2)\n",
        "\n",
        "\n",
        "svm=[0.98,0.97]\n",
        "rf = [0.98,0.97]\n",
        "mlp = [0.98,0.98]\n",
        "cnn = [0.97,0.97]\n",
        "ax = plt.subplot(111)\n",
        "\n",
        "mlp_pl = ax.bar(X,mlp, width=0.20 )\n",
        "svm_pl  = ax.bar(X+0.20,svm, width=0.20 )\n",
        "rf_pl  = ax.bar(X+0.40,rf, width=0.20)\n",
        "cnn_pl  = ax.bar(X+0.60,cnn, width=0.20)\n",
        "\n",
        "\n",
        "ax.set_ylabel('Scores')\n",
        "ax.set_title('Scores metric and model')\n",
        "ax.set_xticks([0.3,1.3])\n",
        "ax.set_xticklabels(metrics_labels)\n",
        "ax.legend((mlp_pl[0],svm_pl[0],rf_pl[0],cnn_pl[0]),[\"MLP\",\"SVM\",\"Forest\",\"CNN\"],loc=\"upper right\")\n",
        "plt.ylim(0.9,1)\n",
        "\n",
        "plt.savefig(\"bert_scores.png\")"
      ],
      "execution_count": null,
      "outputs": [
        {
          "output_type": "display_data",
          "data": {
            "image/png": "[encoded data removed]",
            "text/plain": [
              "<Figure size 432x288 with 1 Axes>"
            ]
          },
          "metadata": {
            "tags": [],
            "needs_background": "light"
          }
        }
      ]
    },
    {
      "cell_type": "markdown",
      "metadata": {
        "id": "LZzU-OyvFmHW"
      },
      "source": [
        "# Multi Stance Classification"
      ]
    },
    {
      "cell_type": "markdown",
      "metadata": {
        "id": "VxhMTDWwFqrx"
      },
      "source": [
        "# Create the Multi-class Dataset and Train DL Model"
      ]
    },
    {
      "cell_type": "code",
      "metadata": {
        "id": "JLPRulLXFqS5"
      },
      "source": [
        "def dropUnrelated(df):\n",
        "    df = df[df.Stance != 4]\n",
        "    return df\n",
        "trainMulti = train_data.copy()\n",
        "testMulti = test_data.copy()\n",
        "validationMulti = validation_data.copy()\n",
        "multiple_dict = {'unrelated':4, 'discuss':0, 'agree':1, 'disagree':2}\n",
        "trainMulti.Stance, testMulti.Stance, validationMulti.Stance = trainMulti.Stance.map(multiple_dict), testMulti.Stance.map(multiple_dict),validationMulti.Stance.map(multiple_dict) \n",
        "trainMulti, testMulti, validationMulti = dropUnrelated(trainMulti), dropUnrelated(testMulti),dropUnrelated(validationMulti)"
      ],
      "execution_count": null,
      "outputs": []
    },
    {
      "cell_type": "markdown",
      "metadata": {
        "id": "44QuC_nduX2l"
      },
      "source": [
        "trainMulti now has 11431 rows\n",
        "testMulti has 7064 rows and \n",
        "validationMulti has 1996 rows"
      ]
    },
    {
      "cell_type": "code",
      "metadata": {
        "id": "RfFmWCHGt4Sp"
      },
      "source": [
        "trainMultiBert = getEmbeddings(tokenizeData(trainMulti))\n",
        "testMultiBert =  getEmbeddings(tokenizeData(testMulti))\n",
        "validationMultiBert =  getEmbeddings(tokenizeData(validationMulti))"
      ],
      "execution_count": null,
      "outputs": []
    },
    {
      "cell_type": "code",
      "metadata": {
        "id": "DkG-fucow9Mo"
      },
      "source": [
        "save(trainMultiBert,\"trainMultiBert\")\n",
        "save(testMultiBert,\"testMultiBert\")\n",
        "save(validationMultiBert,\"validationMultiBert\")"
      ],
      "execution_count": null,
      "outputs": []
    },
    {
      "cell_type": "code",
      "metadata": {
        "id": "yop7KMsJmuLT"
      },
      "source": [
        "train_Multi_tokens = tokenizeData(trainMulti)\n",
        "test_Multi_token = tokenizeData(testMulti)\n",
        "validation_Multi_token = tokenizeData(validationMulti)"
      ],
      "execution_count": null,
      "outputs": []
    },
    {
      "cell_type": "code",
      "metadata": {
        "id": "KsZAaQwLm7lG"
      },
      "source": [
        "save(train_Multi_tokens,\"train_Multi_tokens\")\n",
        "save(test_Multi_token,\"test_Multi_token\")\n",
        "save(validation_Multi_token,\"validation_Multi_token\")"
      ],
      "execution_count": null,
      "outputs": []
    },
    {
      "cell_type": "code",
      "metadata": {
        "id": "v9kTpwVTqDUC"
      },
      "source": [
        "train_Multi_tokens=load(\"train_Multi_tokens\")\n",
        "test_Multi_token=load(\"test_Multi_token\")\n",
        "validation_Multi_token=load(\"validation_Multi_token\")"
      ],
      "execution_count": null,
      "outputs": []
    },
    {
      "cell_type": "code",
      "metadata": {
        "id": "YTyyi1IPmIm_"
      },
      "source": [
        "class BERT_Data_MultiClass(Dataset):\n",
        "    def __init__(self,data,target,binary=True):\n",
        "        self.stances = target\n",
        "        self.data = data\n",
        "        self.stances = list(self.stances.values)\n",
        "    def __len__(self):\n",
        "        return len(self.data[\"input_ids\"])\n",
        "    def __getitem__(self,idx):\n",
        "        # stance = torch.zeros(3,dtype=torch.long)\n",
        "        # stance[self.stances[idx]-1] = 1\n",
        "        stance = self.stances[idx]\n",
        "        stance = torch.tensor(stance).to(device)\n",
        "        with torch.no_grad():\n",
        "            embedding = bert_model(self.data[\"input_ids\"][idx:idx+1].to(device),self.data[\"attention_mask\"][idx:idx+1].to(device),self.data[\"token_type_ids\"][idx:idx+1].to(device))[0]\n",
        "\n",
        "        return embedding,stance\n",
        "\n",
        "trainMulti_dataset_bert = BERT_Data_MultiClass(train_Multi_tokens,trainMulti.Stance)\n",
        "testMulti_dataset_bert = BERT_Data_MultiClass(test_Multi_token,testMulti.Stance)\n",
        "validationMulti_dataset_bert = BERT_Data_MultiClass(validation_Multi_token,validationMulti.Stance)\n",
        "\n",
        "trainMulti_loader_bert = DataLoader(trainMulti_dataset_bert,batch_size=16,shuffle=True)\n",
        "testMulti_loader_bert = DataLoader(testMulti_dataset_bert,batch_size=16,shuffle=True)\n",
        "validationMulti_loader_bert = DataLoader(validationMulti_dataset_bert,batch_size=16,shuffle=True)"
      ],
      "execution_count": null,
      "outputs": []
    },
    {
      "cell_type": "code",
      "metadata": {
        "id": "IaSJBk9NnxVL"
      },
      "source": [
        "class BERT_GRU(nn.Module):\n",
        "    def __init__(self):\n",
        "        super(BERT_GRU,self).__init__()\n",
        "        self.rnn = nn.GRU(768,256,num_layers=2,bidirectional=True,dropout=0,batch_first=True)\n",
        "        self.fc = nn.Linear(256,3) #output probabilities for each of the 3 classes: discuss, agree, disagree\n",
        "        self.dropout = nn.Dropout(0.2)\n",
        "\n",
        "    def forward(self,x):\n",
        "        _,hidden = self.rnn(x)\n",
        "        hidden = self.dropout(hidden[-1,:,:])\n",
        "        hidden = self.fc(hidden)\n",
        "        return hidden\n",
        "gru = BERT_GRU().to(device)\n",
        "def multi_acc(preds, y):\n",
        "    \"\"\"\n",
        "    Returns accuracy per batch\n",
        "    \"\"\"\n",
        "    #round predictions to the closest integer\n",
        "    y_pred_softmax = torch.log_softmax(preds, dim = 1)\n",
        "    _, y_pred_tags = torch.max(y_pred_softmax, dim = 1)  \n",
        "    # print(y_pred_tags)\n",
        "    # rounded_preds = torch.round(y_pred_tags)\n",
        "    correct = (y_pred_tags == y).float() #convert into float for division \n",
        "    acc = correct.sum() / len(correct)\n",
        "    return acc\n",
        "best_valid_loss = float('inf')\n"
      ],
      "execution_count": null,
      "outputs": []
    },
    {
      "cell_type": "code",
      "metadata": {
        "id": "ldn4kYatqO4_"
      },
      "source": [
        "multi_optimizer = optim.Adam(gru.parameters(),lr=0.0002)\n",
        "multi_criterion = nn.CrossEntropyLoss().to(device)"
      ],
      "execution_count": null,
      "outputs": []
    },
    {
      "cell_type": "code",
      "metadata": {
        "id": "TEUbf1tfsHPK"
      },
      "source": [
        "def train(model, iterator, optimizer, criterion):\n",
        "    \n",
        "    epoch_loss = 0\n",
        "    epoch_acc = 0\n",
        "    \n",
        "    model.train()\n",
        "    \n",
        "    for x,y in iterator:\n",
        "\n",
        "        optimizer.zero_grad()\n",
        "\n",
        "        predictions = model(x.squeeze()).squeeze(1)\n",
        "        loss = criterion(predictions, y)\n",
        "        \n",
        "        acc = multi_acc(predictions, y)\n",
        "        \n",
        "        loss.backward()\n",
        "        \n",
        "        optimizer.step()\n",
        "        \n",
        "        epoch_loss += loss.item()\n",
        "        epoch_acc += acc.item()\n",
        "        \n",
        "    return epoch_loss / len(iterator), epoch_acc / len(iterator)"
      ],
      "execution_count": null,
      "outputs": []
    },
    {
      "cell_type": "code",
      "metadata": {
        "id": "glDFvOHSsXfo"
      },
      "source": [
        "def evaluate(model, iterator, criterion):\n",
        "    \n",
        "    epoch_loss = 0\n",
        "    epoch_acc = 0\n",
        "    \n",
        "    model.eval()\n",
        "    \n",
        "    with torch.no_grad():\n",
        "    \n",
        "        for x,y in iterator:\n",
        "\n",
        "            predictions = model(x.squeeze()).squeeze(1)\n",
        "            \n",
        "            loss = criterion(predictions, y)\n",
        "            \n",
        "            acc = multi_acc(predictions, y)\n",
        "\n",
        "            epoch_loss += loss.item()\n",
        "            epoch_acc += acc.item()\n",
        "        \n",
        "    return epoch_loss / len(iterator), epoch_acc / len(iterator)"
      ],
      "execution_count": null,
      "outputs": []
    },
    {
      "cell_type": "code",
      "metadata": {
        "id": "vyfp6qQXuzCu"
      },
      "source": [
        "import time\n",
        "\n",
        "def epoch_time(start_time, end_time):\n",
        "    elapsed_time = end_time - start_time\n",
        "    elapsed_mins = int(elapsed_time / 60)\n",
        "    elapsed_secs = int(elapsed_time - (elapsed_mins * 60))\n",
        "    return elapsed_mins, elapsed_secs\n",
        "max_epochs=15\n",
        "epoch=0"
      ],
      "execution_count": null,
      "outputs": []
    },
    {
      "cell_type": "code",
      "metadata": {
        "id": "mZm_emcju1YP"
      },
      "source": [
        "#code for training adapted from practical 3\n",
        "while epoch<max_epochs:\n",
        "    start_time = time.time()\n",
        "\n",
        "    train_loss, train_acc = train(gru,trainMulti_loader_bert,multi_optimizer,multi_criterion)\n",
        "    valid_loss, valid_acc = evaluate(gru,validationMulti_loader_bert,multi_criterion)\n",
        "    \n",
        "    end_time=time.time()\n",
        "\n",
        "    epoch_mins, epoch_secs = epoch_time(start_time, end_time)\n",
        "    if valid_loss < best_valid_loss:\n",
        "            best_valid_loss = valid_loss\n",
        "            torch.save(gru.state_dict(), '/content/drive/MyDrive/FakeNewsData/Outputs/bertMultiModel4layers.pt')\n",
        "    print(f'Epoch: {epoch+1:02} | Epoch Time: {epoch_mins}m {epoch_secs}s')\n",
        "    print(f'\\tTrain Loss: {train_loss:.3f} | Train Acc: {train_acc*100:.2f}%')\n",
        "    print(f'\\t Val. Loss: {valid_loss:.3f} |  Val. Acc: {valid_acc*100:.2f}%')\n",
        "    epoch+=1\n",
        "\n"
      ],
      "execution_count": null,
      "outputs": []
    },
    {
      "cell_type": "code",
      "metadata": {
        "colab": {
          "base_uri": "https://localhost:8080/"
        },
        "id": "Pc513OAqbau7",
        "outputId": "e663a631-a4ef-4d68-ce63-fa006bebde5e"
      },
      "source": [
        "gru.load_state_dict(torch.load('/content/drive/MyDrive/FakeNewsData/Outputs/bertMultiModel.pt')) #load the given directory"
      ],
      "execution_count": null,
      "outputs": [
        {
          "output_type": "execute_result",
          "data": {
            "text/plain": [
              "<All keys matched successfully>"
            ]
          },
          "metadata": {
            "tags": []
          },
          "execution_count": 46
        }
      ]
    },
    {
      "cell_type": "code",
      "metadata": {
        "colab": {
          "base_uri": "https://localhost:8080/",
          "height": 482
        },
        "id": "LnP3UB3XWcBq",
        "outputId": "fa0c5f8d-a738-4fe2-8549-17e9c43660de"
      },
      "source": [
        "def testMultiRNN(model, iterator,criterion):\n",
        "    model.eval()\n",
        "    y_pred = []\n",
        "    y_true = []\n",
        "    with torch.no_grad():\n",
        "        epoch_loss = 0\n",
        "        epoch_acc = 0\n",
        "        for x,y in iterator:\n",
        "            predictions = model(x.squeeze()).squeeze(1)\n",
        "            \n",
        "            loss = criterion(predictions, y)\n",
        "            \n",
        "            acc = multi_acc(predictions, y)\n",
        "            y_pred_softmax = torch.log_softmax(predictions, dim = 1)\n",
        "            _, y_pred_tags = torch.max(y_pred_softmax, dim = 1)  \n",
        "            y_pred.extend(y_pred_tags.cpu().numpy())\n",
        "            y_true.extend(y.cpu().numpy())\n",
        "            epoch_loss += loss.item()\n",
        "            epoch_acc += acc.item()\n",
        "    disp=metrics.ConfusionMatrixDisplay(metrics.confusion_matrix(y_true,y_pred,normalize=None),display_labels=['discuss', 'agree', 'disagree'])\n",
        "    disp.plot(cmap=plt.cm.Blues,values_format=\"\")\n",
        "    plt.title('Confusion matrix of {}'.format(\"Multi RNN\"))\n",
        "    plt.savefig(\"/content/drive/MyDrive/FakeNewsData/Outputs/{}_Matrix.png\".format(\"Multi RNN\"))\n",
        "    print(metrics.classification_report(y_true,y_pred))\n",
        "    return epoch_loss / len(iterator), epoch_acc / len(iterator)\n",
        "testMultiRNN(gru,testMulti_loader_bert,multi_criterion)"
      ],
      "execution_count": null,
      "outputs": [
        {
          "output_type": "stream",
          "text": [
            "              precision    recall  f1-score   support\n",
            "\n",
            "           0       0.84      0.73      0.78      4464\n",
            "           1       0.47      0.73      0.57      1903\n",
            "           2       0.33      0.11      0.17       697\n",
            "\n",
            "    accuracy                           0.67      7064\n",
            "   macro avg       0.55      0.52      0.51      7064\n",
            "weighted avg       0.69      0.67      0.66      7064\n",
            "\n"
          ],
          "name": "stdout"
        },
        {
          "output_type": "execute_result",
          "data": {
            "text/plain": [
              "(1.3026169889450612, 0.666289592760181)"
            ]
          },
          "metadata": {
            "tags": []
          },
          "execution_count": 54
        },
        {
          "output_type": "display_data",
          "data": {
            "image/png": "[encoded data removed]",
            "text/plain": [
              "<Figure size 432x288 with 2 Axes>"
            ]
          },
          "metadata": {
            "tags": [],
            "needs_background": "light"
          }
        }
      ]
    },
    {
      "cell_type": "code",
      "metadata": {
        "id": "-lsSkF-f0ACL"
      },
      "source": [
        "mlpMulti = MLPClassifier(hidden_layer_sizes=[768,512,256,128,64],learning_rate=\"adaptive\",max_iter=600)\n",
        "mlpMulti.fit(trainMultiBert[1],list(trainMulti.Stance.values))"
      ],
      "execution_count": null,
      "outputs": []
    },
    {
      "cell_type": "code",
      "metadata": {
        "colab": {
          "base_uri": "https://localhost:8080/",
          "height": 519
        },
        "id": "KTYlqRJ49rpk",
        "outputId": "04549f48-7802-4d6e-f27a-e7bc29c2a66c"
      },
      "source": [
        "plot_results_bert(mlpMulti,\"MLP_MultiClassification\",testMultiBert[1],list(testMulti.Stance.values))"
      ],
      "execution_count": null,
      "outputs": [
        {
          "output_type": "stream",
          "text": [
            "              precision    recall  f1-score   support\n",
            "\n",
            "           1       0.67      0.88      0.76      4464\n",
            "           2       0.40      0.26      0.32      1903\n",
            "           3       0.00      0.00      0.00       697\n",
            "\n",
            "    accuracy                           0.62      7064\n",
            "   macro avg       0.36      0.38      0.36      7064\n",
            "weighted avg       0.53      0.62      0.57      7064\n",
            "\n"
          ],
          "name": "stdout"
        },
        {
          "output_type": "stream",
          "text": [
            "/usr/local/lib/python3.7/dist-packages/sklearn/metrics/_classification.py:1272: UndefinedMetricWarning: Precision and F-score are ill-defined and being set to 0.0 in labels with no predicted samples. Use `zero_division` parameter to control this behavior.\n",
            "  _warn_prf(average, modifier, msg_start, len(result))\n"
          ],
          "name": "stderr"
        },
        {
          "output_type": "display_data",
          "data": {
            "image/png": "[encoded data removed]",
            "text/plain": [
              "<Figure size 432x288 with 2 Axes>"
            ]
          },
          "metadata": {
            "tags": [],
            "needs_background": "light"
          }
        }
      ]
    },
    {
      "cell_type": "code",
      "metadata": {
        "colab": {
          "base_uri": "https://localhost:8080/",
          "height": 281
        },
        "id": "kdn7usZzuvQW",
        "outputId": "1d6266c3-48d0-466a-8f56-b7b70363a527"
      },
      "source": [
        "#scores based on the confusion matrices generate above\n",
        "import matplotlib.pyplot as plt\n",
        "import numpy as np\n",
        "metrics_labels=[\"accuracy\",\"f1\"]\n",
        "\n",
        "X = np.arange(2)\n",
        "\n",
        "\n",
        "mlp = [0.62,0.36]\n",
        "rnn = [0.67,0.51]\n",
        "ax = plt.subplot(111)\n",
        "\n",
        "mlp_pl = ax.bar(X,mlp, width=0.40 )\n",
        "rnn_pl  = ax.bar(X+0.40,rnn, width=0.40)\n",
        "\n",
        "\n",
        "ax.set_ylabel('Scores')\n",
        "ax.set_title('Scores metric and model')\n",
        "ax.set_xticks([0.3,1.3])\n",
        "ax.set_xticklabels(metrics_labels)\n",
        "ax.legend((mlp_pl[0],rnn_pl[0]),[\"MLP\",\"RNN\"],loc=\"upper right\")\n",
        "plt.ylim(0,1)\n",
        "\n",
        "plt.savefig(\"bertMulti_scores.png\")"
      ],
      "execution_count": null,
      "outputs": [
        {
          "output_type": "display_data",
          "data": {
            "image/png": "[encoded data removed]",
            "text/plain": [
              "<Figure size 432x288 with 1 Axes>"
            ]
          },
          "metadata": {
            "tags": [],
            "needs_background": "light"
          }
        }
      ]
    },
    {
      "cell_type": "markdown",
      "metadata": {
        "id": "y641ZJPt-H5V"
      },
      "source": [
        "# Test architecture end-to-end"
      ]
    },
    {
      "cell_type": "code",
      "metadata": {
        "id": "otECN3IS-HpR"
      },
      "source": [
        "gold_labels = test_data.pop(\"Stance\")"
      ],
      "execution_count": null,
      "outputs": []
    },
    {
      "cell_type": "code",
      "metadata": {
        "id": "7idHQBY5jX0z"
      },
      "source": [
        "all_test_tokens = tokenizeData(test_data) \n",
        "save(all_test_tokens,\"all_test_tokens\")"
      ],
      "execution_count": null,
      "outputs": []
    },
    {
      "cell_type": "code",
      "metadata": {
        "id": "vI29oSAxtsCQ"
      },
      "source": [
        "all_test_tokens = load(\"all_test_tokens\")"
      ],
      "execution_count": null,
      "outputs": []
    },
    {
      "cell_type": "code",
      "metadata": {
        "id": "igU3R7a-j-1a"
      },
      "source": [
        "binary_mlp = load(\"mlp_bert\")"
      ],
      "execution_count": null,
      "outputs": []
    },
    {
      "cell_type": "code",
      "metadata": {
        "id": "VMR6VJvjleQH"
      },
      "source": [
        "true_labels = list(gold_labels.values)"
      ],
      "execution_count": null,
      "outputs": []
    },
    {
      "cell_type": "code",
      "metadata": {
        "colab": {
          "base_uri": "https://localhost:8080/",
          "height": 83,
          "referenced_widgets": [
            "a536d0f866f04cf89a79097f1412196a",
            "a586dc8abec44b73860b1d41f5087c3f",
            "05035cdfdfec40a8ac51c3493191e2bc",
            "1c5728c7c6d34d1e91dc8f9e2dc5bfba",
            "2485aa411ad541b9817b551b22869517",
            "fb8fbc5055e04927951aaee7e8492e1b",
            "a7a6b0fcc97b47c89c1b0f17b10f99e8",
            "41be184e907c42e4884f784d7e4ed963"
          ]
        },
        "id": "g-3nzz6HjdTb",
        "outputId": "b89d77cb-7bc9-427d-8daf-40c5dbf3d7a4"
      },
      "source": [
        "y_pred = []\n",
        "score = 0\n",
        "related = [\"discuss\",\"agree\",\"disagree\"]\n",
        "gru.eval()\n",
        "for i in tqdm(range(len(all_test_tokens[\"input_ids\"]))):\n",
        "    with torch.no_grad():\n",
        "        embedding = bert_model(all_test_tokens[\"input_ids\"][i:i+1].to(device),all_test_tokens[\"attention_mask\"][i:i+1].to(device),all_test_tokens[\"token_type_ids\"][i:i+1].to(device))\n",
        "        prediction = binary_mlp.predict(embedding[1].cpu().numpy())\n",
        "        if prediction==\"unrelated\":\n",
        "            name_prediction=\"unrelated\"\n",
        "        else:\n",
        "            prediction = gru(embedding[0])\n",
        "            y_pred_softmax = torch.log_softmax(prediction, dim = 1)\n",
        "            _, prediction = torch.max(y_pred_softmax, dim = 1)\n",
        "            prediction = prediction.item()\n",
        "            if prediction==0:\n",
        "                name_prediction = \"discuss\"\n",
        "            elif prediction==1:\n",
        "                name_prediction = \"agree\"\n",
        "            elif prediction==2:\n",
        "                name_prediction = \"disagree\"\n",
        "        y_pred.append(name_prediction) \n",
        "        if name_prediction == true_labels[i]:\n",
        "            score+=0.25\n",
        "            if name_prediction != \"unrelated\":\n",
        "                score+=0.5\n",
        "        if name_prediction in related and true_labels[i] in related:\n",
        "            score += 0.25\n",
        "print(\"Final score of model is: {}\".format(score))"
      ],
      "execution_count": null,
      "outputs": [
        {
          "output_type": "display_data",
          "data": {
            "application/vnd.jupyter.widget-view+json": {
              "model_id": "a536d0f866f04cf89a79097f1412196a",
              "version_minor": 0,
              "version_major": 2
            },
            "text/plain": [
              "HBox(children=(FloatProgress(value=0.0, max=25413.0), HTML(value='')))"
            ]
          },
          "metadata": {
            "tags": []
          }
        },
        {
          "output_type": "stream",
          "text": [
            "\n",
            "Final score of model is: 9669.25\n"
          ],
          "name": "stdout"
        }
      ]
    },
    {
      "cell_type": "code",
      "metadata": {
        "colab": {
          "base_uri": "https://localhost:8080/",
          "height": 482
        },
        "id": "4vJXD4XBmm--",
        "outputId": "1f31fdc1-cd12-4490-8be8-d366d782d889"
      },
      "source": [
        "disp=metrics.ConfusionMatrixDisplay(metrics.confusion_matrix(true_labels,y_pred,normalize=None),display_labels=[\"agree\",\"disagree\",\"discuss\",\"unrelated\"])\n",
        "disp.plot(cmap=plt.cm.Blues,values_format=\"\")\n",
        "plt.title('Confusion matrix of {}'.format(\"Final Architecture\"))\n",
        "plt.savefig(\"/content/drive/MyDrive/FakeNewsData/Outputs/{}_Matrix.png\".format(\"Final Architecture\"))\n",
        "print(metrics.classification_report(true_labels,y_pred))"
      ],
      "execution_count": null,
      "outputs": [
        {
          "output_type": "stream",
          "text": [
            "              precision    recall  f1-score   support\n",
            "\n",
            "       agree       0.46      0.72      0.56      1903\n",
            "    disagree       0.29      0.10      0.15       697\n",
            "     discuss       0.79      0.71      0.75      4464\n",
            "   unrelated       0.99      0.98      0.99     18349\n",
            "\n",
            "    accuracy                           0.89     25413\n",
            "   macro avg       0.63      0.63      0.61     25413\n",
            "weighted avg       0.90      0.89      0.89     25413\n",
            "\n"
          ],
          "name": "stdout"
        },
        {
          "output_type": "display_data",
          "data": {
            "image/png": "[encoded data removed]",
            "text/plain": [
              "<Figure size 432x288 with 2 Axes>"
            ]
          },
          "metadata": {
            "tags": [],
            "needs_background": "light"
          }
        }
      ]
    }
  ]
}